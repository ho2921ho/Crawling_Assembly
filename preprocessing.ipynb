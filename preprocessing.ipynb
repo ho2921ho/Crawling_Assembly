{
 "cells": [
  {
   "cell_type": "code",
   "execution_count": 278,
   "id": "cd8887ef",
   "metadata": {},
   "outputs": [],
   "source": [
    "# 이 전처리는 개체 기준은 한글명 + 정당을 기준으로 합니다. 같은 정당, 같은 한글명이 있는 경우 추가적인 전처리가 필요합니다."
   ]
  },
  {
   "cell_type": "code",
   "execution_count": 279,
   "id": "818497c8",
   "metadata": {},
   "outputs": [],
   "source": [
    "import pandas as pd\n",
    "import pickle\n",
    "import numpy as np\n",
    "from tqdm import tqdm"
   ]
  },
  {
   "cell_type": "code",
   "execution_count": 281,
   "id": "aa8e03df",
   "metadata": {},
   "outputs": [],
   "source": [
    "from datetime import datetime,timedelta"
   ]
  },
  {
   "cell_type": "code",
   "execution_count": 280,
   "id": "6c66d98e",
   "metadata": {},
   "outputs": [],
   "source": [
    "for start in pd.date_range('2020-06-01','2023-09-26'):\n",
    "    ## 사용할 기간을 지정합니다.\n",
    "    end = start + timedelta(90)\n",
    "\n",
    "    ## 데이터 불러오기\n",
    "    with open('data/raw2.pickle', 'rb') as f:\n",
    "        raw2 = pickle.load(f)\n",
    "\n",
    "    ## 데이터 복사\n",
    "    raw3 = raw2.copy()\n",
    "\n",
    "    ## 사용할 기간에 따라 데이터를 추출합니다\n",
    "\n",
    "    raw3 = raw3[raw3['date'].between(start, end)]\n",
    "\n",
    "    ## 데이터 구분\n",
    "    ##[이름,당명,한자명] 형식인 데이터를 각각 하나의 열로 구분합니다. 한자명은 사용하지 않습니다.\n",
    "\n",
    "    raw3['main_name'] = [x[0] for x in raw3['main']]\n",
    "    raw3['main_party'] = [x[1] for x in raw3['main']]\n",
    "\n",
    "    raw3 = raw3.explode('members')\n",
    "\n",
    "    raw3['member_name'] = [x[0] for x in raw3['members']]\n",
    "    raw3['member_party'] = [x[1] for x in raw3['members']]\n",
    "\n",
    "    raw3 = raw3.drop(['main','members'],axis = 1)\n",
    "\n",
    "    ## 당명 변경\n",
    "    raw3['main_party'] = [x.replace('미래통합당','국민의힘') for x in raw3['main_party']]\n",
    "    raw3['member_party'] = [x.replace('미래통합당','국민의힘') for x in raw3['member_party']]\n",
    "\n",
    "    ## 공백 제거\n",
    "    raw3['main_name'] = [x.replace('\\n','') for x in raw3['main_name']]\n",
    "    raw3['main_name'] = [x.replace('\\t','') for x in raw3['main_name']]\n",
    "\n",
    "    raw3['main_party'] = [x.replace('\\n','') for x in raw3['main_party']]\n",
    "    raw3['main_party'] = [x.replace('\\t','') for x in raw3['main_party']]\n",
    "\n",
    "    raw3['member_name'] = [x.replace('\\n','') for x in raw3['member_name']]\n",
    "    raw3['member_name'] = [x.replace('\\t','') for x in raw3['member_name']]\n",
    "\n",
    "    raw3['member_party'] = [x.replace('\\n','') for x in raw3['member_party']]\n",
    "    raw3['member_party'] = [x.replace('\\t','') for x in raw3['member_party']]\n",
    "\n",
    "    ## 매트릭스 인덱스 이름 설정 기본 : 한글명 + 당명\n",
    "    raw3['main'] = raw3['main_name'] + ' ' + raw3['main_party']\n",
    "    raw3['member'] = raw3['member_name'] + ' ' + raw3['member_party']\n",
    "\n",
    "    matrix = raw3.pivot_table(index=\"main\", columns=\"member\", aggfunc=\"size\", fill_value=0)\n",
    "\n",
    "    # 전처리된 자료 저장.    \n",
    "    with open('data/matrix_{}_{}.pickle'.format(str(start)[:10],str(end)[:10]), 'wb') as f:\n",
    "        pickle.dump(matrix , f, pickle.HIGHEST_PROTOCOL)\n"
   ]
  }
 ],
 "metadata": {
  "kernelspec": {
   "display_name": "Python 3 (ipykernel)",
   "language": "python",
   "name": "python3"
  },
  "language_info": {
   "codemirror_mode": {
    "name": "ipython",
    "version": 3
   },
   "file_extension": ".py",
   "mimetype": "text/x-python",
   "name": "python",
   "nbconvert_exporter": "python",
   "pygments_lexer": "ipython3",
   "version": "3.9.13"
  }
 },
 "nbformat": 4,
 "nbformat_minor": 5
}
