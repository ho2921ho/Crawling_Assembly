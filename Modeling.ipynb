{
 "cells": [
  {
   "cell_type": "code",
   "execution_count": 23,
   "id": "07cbdc83-7d68-4bb7-9063-425a1aaa5d22",
   "metadata": {},
   "outputs": [
    {
     "data": {
      "text/plain": [
       "<Figure size 7200x4800 with 0 Axes>"
      ]
     },
     "execution_count": 23,
     "metadata": {},
     "output_type": "execute_result"
    },
    {
     "data": {
      "text/plain": [
       "<Figure size 7200x4800 with 0 Axes>"
      ]
     },
     "metadata": {},
     "output_type": "display_data"
    }
   ],
   "source": [
    "import plotly.express as px\n",
    "from matplotlib.pyplot import figure\n"
   ]
  },
  {
   "cell_type": "code",
   "execution_count": 3,
   "id": "92905b1a-2522-4915-b47f-52adb61215d7",
   "metadata": {},
   "outputs": [],
   "source": [
    "import os\n",
    "import pandas as pd\n",
    "import pickle\n",
    "import numpy as np"
   ]
  },
  {
   "cell_type": "code",
   "execution_count": 2,
   "id": "24a42c26-a5b8-4d84-a2bd-d906c56f52d9",
   "metadata": {},
   "outputs": [],
   "source": [
    "import scipy.spatial\n",
    "from sklearn.cluster import AgglomerativeClustering\n",
    "from sklearn.manifold import MDS\n",
    "from scipy.cluster.hierarchy import linkage, dendrogram "
   ]
  },
  {
   "cell_type": "code",
   "execution_count": 4,
   "id": "cb4dd4d5-c8fc-44bd-b452-51a39868d36e",
   "metadata": {},
   "outputs": [],
   "source": [
    "def find_similar(search_name,matrix,num):\n",
    "    name = [name for name, hangle_party in name_party_dict.items() if hangle_party[0] == search_name][0]\n",
    "    tmp = matrix.loc[name]\n",
    "    close = tmp.sort_values()[:num]\n",
    "    unclose = tmp.sort_values()[-num:]\n",
    "    close = list(map(lambda x : name_party_dict[x], close.index))\n",
    "    unclose = list(map(lambda x : name_party_dict[x], unclose.index))\n",
    "\n",
    "    return close, unclose"
   ]
  },
  {
   "cell_type": "code",
   "execution_count": 5,
   "id": "0ba593cb-c13e-4170-ab8e-c7ad3f4e9cac",
   "metadata": {},
   "outputs": [],
   "source": [
    "# 비유사도 측정 및 거리행렬 \n",
    "with open('data\\matrix.pickle', 'rb') as f:\n",
    "    matrix = pickle.load(f)"
   ]
  },
  {
   "cell_type": "code",
   "execution_count": 6,
   "id": "81c2be24-dad8-489e-bf83-9c2d51d45ffc",
   "metadata": {},
   "outputs": [],
   "source": [
    "with open('data\\dict.pickle', 'rb') as f:\n",
    "    name_party_dict = pickle.load(f)"
   ]
  },
  {
   "cell_type": "code",
   "execution_count": 7,
   "id": "daf8997d-2bd4-40d9-b46f-7350af93aff2",
   "metadata": {},
   "outputs": [],
   "source": [
    "distanceMatrix  = scipy.spatial.distance.pdist(matrix ,metric = 'cosine')\n",
    "distanceMatrix  = scipy.spatial.distance.squareform(distanceMatrix)"
   ]
  },
  {
   "cell_type": "code",
   "execution_count": 8,
   "id": "fe838080-dc2a-43bd-b86f-67bd15e916e3",
   "metadata": {},
   "outputs": [],
   "source": [
    "distanceMatrixDf =  pd.DataFrame(distanceMatrix)"
   ]
  },
  {
   "cell_type": "code",
   "execution_count": 9,
   "id": "2645fcba-367b-40ea-8169-38bf0f90e4d3",
   "metadata": {},
   "outputs": [],
   "source": [
    "distanceMatrixDf.columns = matrix.columns\n",
    "distanceMatrixDf.index = matrix.index"
   ]
  },
  {
   "cell_type": "code",
   "execution_count": 10,
   "id": "5d932a75-c37d-4e10-a2e8-27349da076bb",
   "metadata": {},
   "outputs": [],
   "source": [
    "close, unclose = find_similar('양향자',distanceMatrixDf,40)"
   ]
  },
  {
   "cell_type": "code",
   "execution_count": 11,
   "id": "8d9e8263-2bfa-42c6-b80b-379a6d7d6054",
   "metadata": {},
   "outputs": [
    {
     "name": "stderr",
     "output_type": "stream",
     "text": [
      "C:\\Users\\DongKeon\\Anaconda3\\lib\\site-packages\\sklearn\\cluster\\_agglomerative.py:566: ClusterWarning:\n",
      "\n",
      "scipy.cluster: The symmetric non-negative hollow observation matrix looks suspiciously like an uncondensed distance matrix\n",
      "\n"
     ]
    }
   ],
   "source": [
    "#%% 클러스터링. \n",
    "ac = AgglomerativeClustering(n_clusters = 2,  linkage='average')\n",
    "labels = ac.fit_predict(distanceMatrixDf)\n",
    "party = list(map(lambda x : name_party_dict[x][1], matrix.columns))\n",
    "name = list(map(lambda x : name_party_dict[x][0], matrix.columns))\n",
    "\n",
    "df = pd.DataFrame({'cluster': labels, 'party':party, 'name':name, 'hanja': matrix.columns})\n",
    "\n",
    "colors = {'국민의힘':'red', '더불어민주당':'blue','한국의희망':'orange',\n",
    "          '정의당':'yellow','무소속':'gray','시대전환':'purple','진보당':'green','기본소득당':'skyblue'}\n",
    "df['color'] = [ colors[x] for x in df.party]"
   ]
  },
  {
   "cell_type": "code",
   "execution_count": 11,
   "id": "b035da0d-04d6-4a83-9e87-d0a93fb1a53d",
   "metadata": {},
   "outputs": [
    {
     "name": "stderr",
     "output_type": "stream",
     "text": [
      "<ipython-input-11-815723dcb09d>:2: ClusterWarning: scipy.cluster: The symmetric non-negative hollow observation matrix looks suspiciously like an uncondensed distance matrix\n",
      "  Z = linkage(distanceMatrixDf, 'average')\n"
     ]
    },
    {
     "data": {
      "image/png": "[encoded data removed]",
      "text/plain": [
       "<Figure size 432x288 with 1 Axes>"
      ]
     },
     "metadata": {
      "needs_background": "light"
     },
     "output_type": "display_data"
    },
    {
     "name": "stdout",
     "output_type": "stream",
     "text": [
      "clusters: 2\n"
     ]
    }
   ],
   "source": [
    "#%% K-elbow\n",
    "Z = linkage(distanceMatrixDf, 'average')\n",
    "\n",
    "last = Z[-10:, 2]\n",
    "last_rev = last[::-1]\n",
    "idxs = np.arange(1, len(last) + 1)\n",
    "plt.plot(idxs, last_rev)\n",
    "\n",
    "acceleration = np.diff(last, 2)  # 2nd derivative of the distances\n",
    "acceleration_rev = acceleration[::-1]\n",
    "\n",
    "plt.plot(idxs[:-2] + 1, acceleration_rev)\n",
    "plt.show()\n",
    "k = acceleration_rev.argmax() + 2  # if idx 0 is the max of this we want 2 clusters\n",
    "print (\"clusters:\", k)\n"
   ]
  },
  {
   "cell_type": "code",
   "execution_count": 12,
   "id": "2b3aabb2-e457-495b-bf89-cef1962ce97e",
   "metadata": {},
   "outputs": [
    {
     "name": "stderr",
     "output_type": "stream",
     "text": [
      "C:\\Users\\DongKeon\\Anaconda3\\lib\\site-packages\\sklearn\\manifold\\_mds.py:601: UserWarning:\n",
      "\n",
      "The MDS API has changed. ``fit`` now constructs an dissimilarity matrix from data. To use a custom dissimilarity matrix, set ``dissimilarity='precomputed'``.\n",
      "\n",
      "C:\\Users\\DongKeon\\Anaconda3\\lib\\site-packages\\sklearn\\manifold\\_mds.py:298: FutureWarning:\n",
      "\n",
      "The default value of `normalized_stress` will change to `'auto'` in version 1.4. To suppress this warning, manually set the value of `normalized_stress`.\n",
      "\n"
     ]
    }
   ],
   "source": [
    "#%% 시각화. \n",
    "## mds\n",
    "matrix_embedded = MDS(n_components=2,random_state=1, eps = 0).fit_transform(distanceMatrixDf)\n",
    "matrix_embedded = pd.DataFrame(matrix_embedded, columns = ['x1','x2'])\n",
    "matrix_embedded['party'] = df['party']\n",
    "matrix_embedded['cluster'] = df['cluster']"
   ]
  },
  {
   "cell_type": "code",
   "execution_count": null,
   "id": "07da6ae6-7439-4534-9514-8786edc3a8e3",
   "metadata": {},
   "outputs": [],
   "source": [
    "matrix_embedded['name'] = df['name']"
   ]
  },
  {
   "cell_type": "code",
   "execution_count": 29,
   "id": "2be6856d-a818-444d-a7d4-affd773210e9",
   "metadata": {},
   "outputs": [],
   "source": [
    "matrix_embedded['color'] = [colors[x] for x in matrix_embedded['party']]"
   ]
  },
  {
   "cell_type": "code",
   "execution_count": 35,
   "id": "a145e97b-fa9c-4763-ab06-674e47aa3604",
   "metadata": {},
   "outputs": [
    {
     "data": {
      "application/vnd.plotly.v1+json": {
       "config": {
        "plotlyServerURL": "https://plot.ly"
       },
       "data": [
        {
         "hovertemplate": "party=국민의힘<br>x1=%{x}<br>x2=%{y}<br>name=%{text}<extra></extra>",
         "legendgroup": "국민의힘",
         "marker": {
          "color": "#636efa",
          "symbol": "circle"
         },
         "mode": "markers+text",
         "name": "국민의힘",
         "orientation": "v",
         "showlegend": true,
         "text": [
          "정경희",
          "전주혜",
          "유경준",
          "유의동",
          "구자근",
          "엄태영",
          "태영호",
          "강대식",
          "강민국",
          "강기윤",
          "안철수",
          "안병길",
          "송언석",
          "송석준",
          "윤재옥",
          "윤두현",
          "윤창현",
          "윤주경",
          "윤영석",
          "윤한홍",
          "윤상현",
          "최재형",
          "최연숙",
          "최승재",
          "최춘식",
          "최형두",
          "최영희",
          "장동혁",
          "장제원",
          "서일준",
          "서정숙",
          "서병수",
          "서범수",
          "성일종",
          "조명희",
          "조해진",
          "주호영",
          "박형수",
          "박대출",
          "박대수",
          "박덕흠",
          "박성중",
          "박진",
          "박정하",
          "박정하",
          "박수영",
          "박성민",
          "류성걸",
          "권은희",
          "권성동",
          "권명호",
          "권영세",
          "지성호",
          "하태경",
          "홍문표",
          "홍석준",
          "전봉민",
          "신원식",
          "백종헌",
          "추경호",
          "배준영",
          "배현진",
          "허은아",
          "조수진",
          "조은희",
          "조경태",
          "정우택",
          "정동만",
          "정점식",
          "정희용",
          "정찬민",
          "정진석",
          "정운천",
          "김형동",
          "김태호",
          "김선교",
          "김학용",
          "김도읍",
          "김성원",
          "김승수",
          "김영선",
          "김정재",
          "김희국",
          "김희곤",
          "김용판",
          "김상훈",
          "김예지",
          "김석기",
          "김미애",
          "김영식",
          "김기현",
          "김웅",
          "한무경",
          "한기호",
          "노용호",
          "양금희",
          "유상범",
          "이인선",
          "이주환",
          "이철규",
          "이채익",
          "이용호",
          "이헌승",
          "이명수",
          "이만희",
          "이태규",
          "이달곤",
          "이종배",
          "이종성",
          "이용",
          "이양수",
          "임병헌",
          "임이자"
         ],
         "type": "scatter",
         "x": [
          1.560594647502193,
          1.6906158752793605,
          1.1640423453816744,
          -0.2646737586593649,
          0.4799149449179347,
          0.8472231727929116,
          0.417693890428398,
          0.21610087761457286,
          1.2316968148982206,
          0.036273343692215,
          0.3107336810708041,
          0.20788892804873713,
          1.9461326963768244,
          1.2056976949333478,
          1.781504654460847,
          1.4128976264939357,
          1.121471109582905,
          1.7572531337994861,
          0.8531701926241153,
          1.330895860282322,
          0.9669187026923933,
          1.8197814834073167,
          0.4806783378461585,
          0.9796422212188987,
          0.1684657031889634,
          0.669804330271213,
          0.47128315935538395,
          1.1498131127086384,
          2.343800867298807,
          0.9713606379924159,
          1.1561283815906458,
          0.5683645770845491,
          0.5246572014096631,
          0.9706182533571659,
          0.09014321014217899,
          0.1296833772661319,
          1.092550536034505,
          -0.32315269655556667,
          1.923486966793779,
          0.3225113806098579,
          0.765241343038928,
          1.3116009055883806,
          -0.4396641395786315,
          -2.91812444500442,
          1.2530973889053858,
          0.6232492035604398,
          0.6107858070306573,
          0.6725851960263742,
          1.0342837878758862,
          1.250943187990489,
          0.7065786186339178,
          -1.6890180521376192,
          0.7211116771333405,
          1.6614689733619448,
          0.3190371682324863,
          1.296790490381971,
          -0.21897620555460914,
          0.21959203888757792,
          0.7960881094960909,
          1.5493445440499902,
          0.6082795639804394,
          2.279805672236033,
          1.3221215070197618,
          0.6570346704688435,
          1.2625582617847981,
          0.8073200653783532,
          0.35192390449000943,
          -0.27153226528768726,
          1.744187818743631,
          0.28579925648040666,
          1.40064888252861,
          2.215337573309468,
          0.6337899228164919,
          0.564105010377419,
          1.0699630797573814,
          -0.21789106821773707,
          0.14240353143513163,
          0.2541359316252376,
          0.11522610999116246,
          0.39054336681147234,
          -0.3391752755768073,
          1.415749808189704,
          1.5453025956642226,
          0.3731051756186041,
          0.08298406138116018,
          0.9140614160735034,
          1.0587854450113525,
          1.2307039874843622,
          0.8050997161151733,
          0.9867977226588889,
          2.5813855071552743,
          1.6561549900509167,
          1.0095518665260053,
          -0.16544646678730754,
          1.0770570550372762,
          1.1160712913793844,
          0.7350054430655524,
          0.2329874736292385,
          -0.16392795524499992,
          1.8069610596039578,
          0.8608331580384853,
          1.4117881269552899,
          0.2600471230356932,
          1.2756438295671333,
          1.590169301897737,
          0.9015836207585796,
          1.3077045136123528,
          0.46624936727125377,
          0.09151943571284739,
          1.016617219979279,
          2.0216549523226237,
          1.3359199283865495,
          0.7691211529409284
         ],
         "xaxis": "x",
         "y": [
          5.164326209864377,
          4.935037835163463,
          5.933847736547373,
          5.164441801369689,
          6.283949522821454,
          5.601588843353076,
          5.9847614394197475,
          5.414305744170728,
          5.163795614674144,
          6.089515660936317,
          5.491390796169665,
          5.898545227132769,
          5.086489102294853,
          5.481399009494912,
          4.560454851112358,
          5.67516125957882,
          5.777326991102801,
          4.905426189176851,
          5.07720791350069,
          5.166568831861137,
          5.342198185627522,
          5.007848930032769,
          4.08611922794278,
          4.943420697352542,
          6.10280142513331,
          4.9998757431839085,
          6.13352335161276,
          5.835219493160056,
          3.9368427362201905,
          5.604255971915999,
          5.207070828956299,
          5.946374942022732,
          5.852751399400264,
          5.985602190085236,
          5.9348040985172155,
          5.133603049829125,
          4.968787979611146,
          5.253254567575527,
          5.0669851385079285,
          6.259369838553503,
          6.2057118363580654,
          5.119888848331343,
          5.969274168696769,
          4.937882749435497,
          5.558733884202291,
          5.3434286566997224,
          6.235554416189472,
          5.784386622028088,
          3.294004667565682,
          5.699293814529969,
          6.016915717538747,
          3.23069508406887,
          6.128803904477603,
          5.254305459402872,
          5.304685554026469,
          5.38817938584349,
          5.946762887624172,
          4.828840120748304,
          6.279802002521406,
          6.447087497051713,
          5.695982429639725,
          4.2516857848310785,
          4.396592600545063,
          5.528283765800562,
          5.664046985128228,
          5.390489126035853,
          6.090385979880879,
          5.645863213325004,
          4.330464291804172,
          5.939740487176681,
          6.396058716734142,
          4.679646628708091,
          6.032461263173026,
          5.770616785471629,
          5.381254646144838,
          5.8692223858168715,
          5.713435038650818,
          5.711147052625847,
          6.273155208300198,
          5.479578294657903,
          5.446941275779581,
          5.379071013523208,
          4.305755665190177,
          6.2690112883149895,
          6.284229826976974,
          5.850501638637286,
          5.2228015849691145,
          5.815686744795763,
          5.624758352613812,
          5.909746696968041,
          3.9394914786895647,
          4.699555753908748,
          5.795278839136696,
          4.567835259702309,
          5.790363705983788,
          6.002490024147415,
          5.420052966980055,
          5.9759598119372415,
          6.09049257688223,
          5.193060534549891,
          5.728674809497769,
          5.233515945250868,
          6.271907234862588,
          5.883599655545974,
          5.1970791728661565,
          5.3017701547421625,
          5.245866792837072,
          5.710259694012653,
          6.101736398437915,
          5.628177259945408,
          4.571908437510656,
          5.814410660939998,
          5.834230726368491
         ],
         "yaxis": "y"
        },
        {
         "hovertemplate": "party=더불어민주당<br>x1=%{x}<br>x2=%{y}<br>name=%{text}<extra></extra>",
         "legendgroup": "더불어민주당",
         "marker": {
          "color": "#EF553B",
          "symbol": "circle"
         },
         "mode": "markers+text",
         "name": "더불어민주당",
         "orientation": "v",
         "showlegend": true,
         "text": [
          "전혜숙",
          "전해철",
          "유정주",
          "천준호",
          "남인순",
          "변재일",
          "인재근",
          "오기형",
          "오영환",
          "기동민",
          "강선우",
          "강훈식",
          "강득구",
          "강민정",
          "강병원",
          "맹성규",
          "안규백",
          "안민석",
          "안호영",
          "송재호",
          "송기헌",
          "송옥주",
          "송갑석",
          "윤후덕",
          "윤건영",
          "윤재갑",
          "윤호중",
          "윤영덕",
          "윤영찬",
          "윤준병",
          "최인호",
          "최기상",
          "최강욱",
          "최혜영",
          "최종윤",
          "강준현",
          "장철민",
          "장경태",
          "서영석",
          "서동용",
          "서영교",
          "서삼석",
          "문진석",
          "문정복",
          "조오섭",
          "주철현",
          "박상혁",
          "박재호",
          "박주민",
          "박홍근",
          "박광온",
          "박병석",
          "박용진",
          "박성준",
          "박범계",
          "박영순",
          "박찬대",
          "박정",
          "권칠승",
          "권인숙",
          "홍성국",
          "홍영표",
          "홍익표",
          "홍정민",
          "홍기원",
          "전용기",
          "전재수",
          "신동근",
          "신영대",
          "신현영",
          "백혜련",
          "우원식",
          "우상호",
          "설훈",
          "소병훈",
          "소병철",
          "허영",
          "허종식",
          "조응천",
          "조승래",
          "조정식",
          "신정훈",
          "도종환",
          "정필모",
          "정성호",
          "정일영",
          "정춘숙",
          "정태호",
          "정청래",
          "김경만",
          "김원이",
          "김승원",
          "김주영",
          "김철민",
          "김태년",
          "김의겸",
          "김용민",
          "김홍걸",
          "김성주",
          "김승남",
          "김교흥",
          "김민기",
          "김민철",
          "김두관",
          "김성환",
          "김영호",
          "김회재",
          "김병주",
          "김영주",
          "김영진",
          "김민석",
          "김영배",
          "김수흥",
          "김한정",
          "김윤덕",
          "김경협",
          "김병기",
          "김병욱",
          "김상희",
          "김정호",
          "김한규",
          "김종민",
          "민홍철",
          "민병덕",
          "민형배",
          "진선미",
          "진성준",
          "한준호",
          "한병도",
          "한정애",
          "고민정",
          "고용진",
          "고영인",
          "위성곤",
          "어기구",
          "황희",
          "황운하",
          "노웅래",
          "양기대",
          "양경숙",
          "양이원영",
          "유기홍",
          "유동수",
          "이인영",
          "이개호",
          "이원욱",
          "이재명",
          "이재정",
          "이수진",
          "이학영",
          "이장섭",
          "이용선",
          "이동주",
          "이정문",
          "이해식",
          "이원택",
          "이형석",
          "이병훈",
          "이상헌",
          "이상민",
          "이수진",
          "이소영",
          "이탄희",
          "이용빈",
          "이용우",
          "임오경",
          "임호선",
          "임종성"
         ],
         "type": "scatter",
         "x": [
          0.73321984038572,
          -0.20366420104093486,
          -0.4451465311782305,
          -0.17325191490807937,
          0.08056683655728128,
          0.37700914022849463,
          -0.26810007041476974,
          1.3711646771426096,
          -0.547565121302084,
          -1.2865897074887305,
          0.022184523961496224,
          0.1488001561446139,
          -0.6943936020737186,
          -1.985174021255585,
          -0.5840148851324567,
          -0.0942666184010554,
          0.09323047909435149,
          -1.6809812057921507,
          -1.311424920307581,
          -0.6014615949946674,
          0.3070460427232698,
          -0.8983349477970225,
          -0.5713955737140928,
          -1.102352987954586,
          -0.6414886484266596,
          -0.9172353601388661,
          -0.03305119585193253,
          -1.0420294481120498,
          0.4144574614771985,
          -0.9361651386159696,
          -0.6923139390609083,
          0.04536794347654807,
          -1.7033641033044291,
          -0.2965635945977609,
          -0.7836084104125735,
          0.3387833841744483,
          -0.743503845825814,
          -0.6627462168510495,
          -0.051113533352094544,
          -1.2260273482769524,
          -0.5333418924400889,
          -1.0332007330394726,
          -0.98857226746133,
          -1.6136956629907033,
          -0.466209472396431,
          -1.3565598446018263,
          -1.2032898440401452,
          -0.5186939746415974,
          -1.0574236363342537,
          -0.11583173281153057,
          0.4410404517121207,
          -0.2708685587137213,
          0.2866872717465467,
          -0.16677439081351972,
          0.9450866339196313,
          -1.6155823953788733,
          0.08569069953079919,
          -0.8260901992761318,
          -0.5680749498348102,
          0.10699195172082467,
          -0.4409679500932498,
          -0.24101260864594937,
          0.35137248177139807,
          0.09392355419122217,
          -0.5980153905100444,
          0.271298385526144,
          -0.4573261677508324,
          -1.0256848348615553,
          0.036413072396170976,
          0.044567556197675454,
          -0.21620680657764207,
          -0.2518749921980351,
          1.1201692548050544,
          0.5531133055498823,
          -1.1848390939811813,
          0.5915437083536003,
          -0.7383812405431507,
          -0.8644232937172005,
          -1.5008327201057783,
          -1.8020888412356333,
          -1.9660160401891216,
          -1.3133026841736537,
          -0.0032542656013793666,
          -0.13466691010215828,
          -0.5429623469352165,
          -0.9114240476187163,
          -0.2772271406617551,
          -0.15378260453554618,
          1.3195803658347822,
          0.4037839583748891,
          -0.26201161622510083,
          -0.5637924283896673,
          -0.882620532328372,
          -1.7941079419958057,
          -0.0840133721594922,
          0.27924417837835813,
          -1.7181589863671973,
          -0.9830863437401517,
          -0.4856578744646834,
          -1.4627996352643011,
          -1.822823652374541,
          0.19526782269791002,
          -0.491742942853923,
          -0.7611958531878807,
          -0.30880969503037015,
          -0.34644450590853004,
          -0.729292758378989,
          -0.21621441599380486,
          0.2317112507379325,
          -1.581753220179937,
          -0.11254635661590584,
          -0.4717230665973185,
          -0.3620023479293539,
          0.9775926920434226,
          -1.4641383340244944,
          0.33925046107911266,
          -0.7915535018238334,
          1.3769512077944512,
          0.023656141532309476,
          -1.0211258233188831,
          -0.3662699557875106,
          -0.6889053765981484,
          -0.7304174087174757,
          -0.44177012537546034,
          -1.6919173746565215,
          -0.006284057503352178,
          -0.11251859764297893,
          -0.8768382734508896,
          -1.153895061221574,
          -0.6403062296804644,
          -0.3271952271085151,
          -0.3402232310471292,
          -0.03587400512855474,
          -1.2941007052547102,
          -1.2258845929705495,
          -0.8668176650428556,
          -0.8803005108986116,
          -1.136247263672579,
          -0.33241012955034266,
          -1.13807558170715,
          0.31786561930637275,
          -0.5903906784857543,
          0.31988368024101194,
          -0.11512880479404118,
          -1.3630485275924522,
          -0.1432305510580831,
          1.2735029054694191,
          0.5590097061472274,
          0.0934315918083963,
          -0.8330072208268148,
          -0.4328121258249249,
          -0.04319354566763463,
          -1.0766331023963964,
          -0.7178839250769258,
          0.21354576466032973,
          -1.172580428133921,
          -0.16575910244316067,
          -0.4168042252687179,
          -1.0256539982121873,
          1.5247957662003675,
          -0.47811380454078634,
          0.2722472641813147,
          0.6749557998692856,
          -0.5570632513135816,
          0.11920506071745929,
          0.09455804094923063,
          -1.0629566772777534,
          -0.20352896070154383
         ],
         "xaxis": "x",
         "y": [
          -3.8169405400290053,
          -3.545969194827626,
          -3.8348931626991356,
          -4.379945783247484,
          -3.8956878877656456,
          -3.2362283967110304,
          -3.5792928030324913,
          -4.071632938926048,
          -3.6376036537223255,
          -3.7125920149151916,
          -3.612105950316696,
          -3.987856071965889,
          -3.9024526138490336,
          -3.430708663674758,
          -2.894285096663362,
          -3.2968251532979167,
          -3.011359949943467,
          -3.3149676246519544,
          -2.914517920638427,
          -3.4029490573110928,
          -3.081668491095675,
          -4.097820231772914,
          -4.173699194657658,
          -3.5305389924064845,
          -3.849069700939669,
          -3.0496237371368147,
          -3.2039083568331925,
          -3.6553774415764417,
          -3.544783798560672,
          -4.083983970849469,
          -4.025233294317196,
          -4.250390563569152,
          -2.973913449830281,
          -3.4848466517063392,
          -3.935627078184542,
          -3.600001694437832,
          -3.7382287286457574,
          -3.488306515789025,
          -3.8064701593161336,
          -3.646727834213305,
          -4.208986046122782,
          -3.3545234534121455,
          -2.8667004951119894,
          -2.996539009229321,
          -4.5064606243844425,
          -3.5649216394063217,
          -4.014044715528169,
          -2.962802534486948,
          -3.233024102050315,
          -4.022728264967372,
          -4.207711345213293,
          -4.488517493750824,
          -3.4680884802267236,
          -3.667707754041354,
          -3.7073526788433537,
          -2.9511298304271776,
          -3.792938092334035,
          -3.6004616119897332,
          -2.959490738999729,
          -3.5883098509274594,
          -3.9360467406477233,
          -3.3986180134113435,
          -4.095199647307417,
          -4.0659598473841605,
          -3.985540339383371,
          -3.919596526942213,
          -2.989296930137997,
          -4.0109462420119435,
          -3.68133561980284,
          -3.871894018091269,
          -3.1710347836424266,
          -3.9270623231536157,
          -3.9176986678083496,
          -3.908603017047061,
          -3.7641598597914747,
          -4.076345650916555,
          -4.061246676726202,
          -3.429061729488903,
          -3.2624952264868394,
          -2.6736763997513986,
          -2.6847255078842602,
          -3.8247458342662224,
          -3.383940995210755,
          -4.22408590757069,
          -3.8480167837818176,
          -3.5286895404945184,
          -3.6295521837517466,
          -3.7742344174482336,
          -3.9570290283737446,
          -3.796209991362111,
          -4.022860366149896,
          -3.235631104527086,
          -3.346184858886935,
          -3.3655497899130613,
          -4.000355878797546,
          -3.698306930116149,
          -3.264714222497652,
          -3.7176323078490072,
          -3.365786577738993,
          -3.5793814610717516,
          -3.055809669602088,
          -3.7975591245325435,
          -3.7433342556519302,
          -2.9820664355570545,
          -4.114119698085674,
          -4.113990107499293,
          -4.374930497311161,
          -4.361621862609852,
          -3.547274663683662,
          -3.1750375071987764,
          -3.5575905407563084,
          -3.287176544435075,
          -3.816502736054322,
          -4.285197884081079,
          -3.1954433318382804,
          -3.9400005371329705,
          -2.8082873511304833,
          0.6198010475275936,
          -4.08119478391566,
          -3.87622710460496,
          -3.2856482142564682,
          -3.342872811088159,
          -2.816864856672249,
          -4.073161599492113,
          -3.5984580097264525,
          -3.0921524546334873,
          -3.9046854225301515,
          -3.7054275435067545,
          -3.1430776390981534,
          -3.0903565507992092,
          -4.3413496553315385,
          -3.554043842664244,
          -3.560365492699758,
          -3.51447159731345,
          -3.0183788818354182,
          -2.8361639113805173,
          -3.771800718243676,
          -3.912357139243496,
          -2.9961264807337304,
          -3.0994217810862175,
          -3.554198747221991,
          -3.812522037357914,
          -3.726701311453923,
          -3.751805303594949,
          -3.146603132575951,
          -4.130751102524556,
          -3.812055068046948,
          -3.6261698175319257,
          -3.3533162293048666,
          -3.8480839340734634,
          -3.488278852463987,
          -3.7415514541481687,
          -3.926435388438925,
          -3.210247922034789,
          -3.906370823303441,
          -2.8343963361350912,
          -4.020791803009543,
          -3.7673793458901645,
          -2.9136199479409246,
          -3.41571944699258,
          -3.6303888241743776,
          -4.224999632772259,
          -3.904722649097285,
          -3.951449076398811,
          -3.715972475339432,
          -3.533645511469873,
          -3.965262847913496,
          -4.152626679497542
         ],
         "yaxis": "y"
        },
        {
         "hovertemplate": "party=정의당<br>x1=%{x}<br>x2=%{y}<br>name=%{text}<extra></extra>",
         "legendgroup": "정의당",
         "marker": {
          "color": "#00cc96",
          "symbol": "circle"
         },
         "mode": "markers+text",
         "name": "정의당",
         "orientation": "v",
         "showlegend": true,
         "text": [
          "강은미",
          "장혜영",
          "류호정",
          "배진교",
          "심상정",
          "이은주"
         ],
         "type": "scatter",
         "x": [
          -2.5785098540326934,
          3.484915159477567,
          2.852762014853872,
          -3.3215734278283264,
          -3.1460554418437128,
          -3.421883168728041
         ],
         "xaxis": "x",
         "y": [
          -1.2619869731916586,
          -1.1132533901339736,
          -0.8586607938882189,
          -1.0363693664701754,
          -1.1466571314694975,
          -0.7535704707971995
         ],
         "yaxis": "y"
        },
        {
         "hovertemplate": "party=진보당<br>x1=%{x}<br>x2=%{y}<br>name=%{text}<extra></extra>",
         "legendgroup": "진보당",
         "marker": {
          "color": "#ab63fa",
          "symbol": "circle"
         },
         "mode": "markers+text",
         "name": "진보당",
         "orientation": "v",
         "showlegend": true,
         "text": [
          "강성희"
         ],
         "type": "scatter",
         "x": [
          -3.5708690515573203
         ],
         "xaxis": "x",
         "y": [
          -1.0031605421780914
         ],
         "yaxis": "y"
        },
        {
         "hovertemplate": "party=무소속<br>x1=%{x}<br>x2=%{y}<br>name=%{text}<extra></extra>",
         "legendgroup": "무소속",
         "marker": {
          "color": "#FFA15A",
          "symbol": "circle"
         },
         "mode": "markers+text",
         "name": "무소속",
         "orientation": "v",
         "showlegend": true,
         "text": [
          "윤관석",
          "윤미향",
          "박완주",
          "하영제",
          "황보승희",
          "김남국",
          "김진표",
          "양정숙",
          "이성만"
         ],
         "type": "scatter",
         "x": [
          -1.1470220165259364,
          -2.2175114839633405,
          -1.1983528223961935,
          0.018619941040052868,
          1.4561551619157571,
          -1.8370057692169144,
          -3.419344426147068,
          -1.780937093398531,
          -1.697025484178884
         ],
         "xaxis": "x",
         "y": [
          -3.838429396660394,
          -3.014027310939932,
          -3.3606009879861367,
          5.745593894498882,
          5.80019895691525,
          -3.2239981487268263,
          1.125828717725308,
          -2.8816204009784463,
          -3.372589137141628
         ],
         "yaxis": "y"
        },
        {
         "hovertemplate": "party=시대전환<br>x1=%{x}<br>x2=%{y}<br>name=%{text}<extra></extra>",
         "legendgroup": "시대전환",
         "marker": {
          "color": "#19d3f3",
          "symbol": "circle"
         },
         "mode": "markers+text",
         "name": "시대전환",
         "orientation": "v",
         "showlegend": true,
         "text": [
          "조정훈"
         ],
         "type": "scatter",
         "x": [
          -0.6930003234554677
         ],
         "xaxis": "x",
         "y": [
          2.890338282279709
         ],
         "yaxis": "y"
        },
        {
         "hovertemplate": "party=한국의희망<br>x1=%{x}<br>x2=%{y}<br>name=%{text}<extra></extra>",
         "legendgroup": "한국의희망",
         "marker": {
          "color": "#FF6692",
          "symbol": "circle"
         },
         "mode": "markers+text",
         "name": "한국의희망",
         "orientation": "v",
         "showlegend": true,
         "text": [
          "양향자"
         ],
         "type": "scatter",
         "x": [
          1.4490375623867584
         ],
         "xaxis": "x",
         "y": [
          0.5292230252813471
         ],
         "yaxis": "y"
        },
        {
         "hovertemplate": "party=기본소득당<br>x1=%{x}<br>x2=%{y}<br>name=%{text}<extra></extra>",
         "legendgroup": "기본소득당",
         "marker": {
          "color": "#B6E880",
          "symbol": "circle"
         },
         "mode": "markers+text",
         "name": "기본소득당",
         "orientation": "v",
         "showlegend": true,
         "text": [
          "용혜인"
         ],
         "type": "scatter",
         "x": [
          1.6418056455687962
         ],
         "xaxis": "x",
         "y": [
          -2.5313401811182055
         ],
         "yaxis": "y"
        }
       ],
       "layout": {
        "height": 1000,
        "legend": {
         "title": {
          "text": "party"
         },
         "tracegroupgap": 0
        },
        "margin": {
         "t": 60
        },
        "template": {
         "data": {
          "bar": [
           {
            "error_x": {
             "color": "#2a3f5f"
            },
            "error_y": {
             "color": "#2a3f5f"
            },
            "marker": {
             "line": {
              "color": "#E5ECF6",
              "width": 0.5
             },
             "pattern": {
              "fillmode": "overlay",
              "size": 10,
              "solidity": 0.2
             }
            },
            "type": "bar"
           }
          ],
          "barpolar": [
           {
            "marker": {
             "line": {
              "color": "#E5ECF6",
              "width": 0.5
             },
             "pattern": {
              "fillmode": "overlay",
              "size": 10,
              "solidity": 0.2
             }
            },
            "type": "barpolar"
           }
          ],
          "carpet": [
           {
            "aaxis": {
             "endlinecolor": "#2a3f5f",
             "gridcolor": "white",
             "linecolor": "white",
             "minorgridcolor": "white",
             "startlinecolor": "#2a3f5f"
            },
            "baxis": {
             "endlinecolor": "#2a3f5f",
             "gridcolor": "white",
             "linecolor": "white",
             "minorgridcolor": "white",
             "startlinecolor": "#2a3f5f"
            },
            "type": "carpet"
           }
          ],
          "choropleth": [
           {
            "colorbar": {
             "outlinewidth": 0,
             "ticks": ""
            },
            "type": "choropleth"
           }
          ],
          "contour": [
           {
            "colorbar": {
             "outlinewidth": 0,
             "ticks": ""
            },
            "colorscale": [
             [
              0,
              "#0d0887"
             ],
             [
              0.1111111111111111,
              "#46039f"
             ],
             [
              0.2222222222222222,
              "#7201a8"
             ],
             [
              0.3333333333333333,
              "#9c179e"
             ],
             [
              0.4444444444444444,
              "#bd3786"
             ],
             [
              0.5555555555555556,
              "#d8576b"
             ],
             [
              0.6666666666666666,
              "#ed7953"
             ],
             [
              0.7777777777777778,
              "#fb9f3a"
             ],
             [
              0.8888888888888888,
              "#fdca26"
             ],
             [
              1,
              "#f0f921"
             ]
            ],
            "type": "contour"
           }
          ],
          "contourcarpet": [
           {
            "colorbar": {
             "outlinewidth": 0,
             "ticks": ""
            },
            "type": "contourcarpet"
           }
          ],
          "heatmap": [
           {
            "colorbar": {
             "outlinewidth": 0,
             "ticks": ""
            },
            "colorscale": [
             [
              0,
              "#0d0887"
             ],
             [
              0.1111111111111111,
              "#46039f"
             ],
             [
              0.2222222222222222,
              "#7201a8"
             ],
             [
              0.3333333333333333,
              "#9c179e"
             ],
             [
              0.4444444444444444,
              "#bd3786"
             ],
             [
              0.5555555555555556,
              "#d8576b"
             ],
             [
              0.6666666666666666,
              "#ed7953"
             ],
             [
              0.7777777777777778,
              "#fb9f3a"
             ],
             [
              0.8888888888888888,
              "#fdca26"
             ],
             [
              1,
              "#f0f921"
             ]
            ],
            "type": "heatmap"
           }
          ],
          "heatmapgl": [
           {
            "colorbar": {
             "outlinewidth": 0,
             "ticks": ""
            },
            "colorscale": [
             [
              0,
              "#0d0887"
             ],
             [
              0.1111111111111111,
              "#46039f"
             ],
             [
              0.2222222222222222,
              "#7201a8"
             ],
             [
              0.3333333333333333,
              "#9c179e"
             ],
             [
              0.4444444444444444,
              "#bd3786"
             ],
             [
              0.5555555555555556,
              "#d8576b"
             ],
             [
              0.6666666666666666,
              "#ed7953"
             ],
             [
              0.7777777777777778,
              "#fb9f3a"
             ],
             [
              0.8888888888888888,
              "#fdca26"
             ],
             [
              1,
              "#f0f921"
             ]
            ],
            "type": "heatmapgl"
           }
          ],
          "histogram": [
           {
            "marker": {
             "pattern": {
              "fillmode": "overlay",
              "size": 10,
              "solidity": 0.2
             }
            },
            "type": "histogram"
           }
          ],
          "histogram2d": [
           {
            "colorbar": {
             "outlinewidth": 0,
             "ticks": ""
            },
            "colorscale": [
             [
              0,
              "#0d0887"
             ],
             [
              0.1111111111111111,
              "#46039f"
             ],
             [
              0.2222222222222222,
              "#7201a8"
             ],
             [
              0.3333333333333333,
              "#9c179e"
             ],
             [
              0.4444444444444444,
              "#bd3786"
             ],
             [
              0.5555555555555556,
              "#d8576b"
             ],
             [
              0.6666666666666666,
              "#ed7953"
             ],
             [
              0.7777777777777778,
              "#fb9f3a"
             ],
             [
              0.8888888888888888,
              "#fdca26"
             ],
             [
              1,
              "#f0f921"
             ]
            ],
            "type": "histogram2d"
           }
          ],
          "histogram2dcontour": [
           {
            "colorbar": {
             "outlinewidth": 0,
             "ticks": ""
            },
            "colorscale": [
             [
              0,
              "#0d0887"
             ],
             [
              0.1111111111111111,
              "#46039f"
             ],
             [
              0.2222222222222222,
              "#7201a8"
             ],
             [
              0.3333333333333333,
              "#9c179e"
             ],
             [
              0.4444444444444444,
              "#bd3786"
             ],
             [
              0.5555555555555556,
              "#d8576b"
             ],
             [
              0.6666666666666666,
              "#ed7953"
             ],
             [
              0.7777777777777778,
              "#fb9f3a"
             ],
             [
              0.8888888888888888,
              "#fdca26"
             ],
             [
              1,
              "#f0f921"
             ]
            ],
            "type": "histogram2dcontour"
           }
          ],
          "mesh3d": [
           {
            "colorbar": {
             "outlinewidth": 0,
             "ticks": ""
            },
            "type": "mesh3d"
           }
          ],
          "parcoords": [
           {
            "line": {
             "colorbar": {
              "outlinewidth": 0,
              "ticks": ""
             }
            },
            "type": "parcoords"
           }
          ],
          "pie": [
           {
            "automargin": true,
            "type": "pie"
           }
          ],
          "scatter": [
           {
            "fillpattern": {
             "fillmode": "overlay",
             "size": 10,
             "solidity": 0.2
            },
            "type": "scatter"
           }
          ],
          "scatter3d": [
           {
            "line": {
             "colorbar": {
              "outlinewidth": 0,
              "ticks": ""
             }
            },
            "marker": {
             "colorbar": {
              "outlinewidth": 0,
              "ticks": ""
             }
            },
            "type": "scatter3d"
           }
          ],
          "scattercarpet": [
           {
            "marker": {
             "colorbar": {
              "outlinewidth": 0,
              "ticks": ""
             }
            },
            "type": "scattercarpet"
           }
          ],
          "scattergeo": [
           {
            "marker": {
             "colorbar": {
              "outlinewidth": 0,
              "ticks": ""
             }
            },
            "type": "scattergeo"
           }
          ],
          "scattergl": [
           {
            "marker": {
             "colorbar": {
              "outlinewidth": 0,
              "ticks": ""
             }
            },
            "type": "scattergl"
           }
          ],
          "scattermapbox": [
           {
            "marker": {
             "colorbar": {
              "outlinewidth": 0,
              "ticks": ""
             }
            },
            "type": "scattermapbox"
           }
          ],
          "scatterpolar": [
           {
            "marker": {
             "colorbar": {
              "outlinewidth": 0,
              "ticks": ""
             }
            },
            "type": "scatterpolar"
           }
          ],
          "scatterpolargl": [
           {
            "marker": {
             "colorbar": {
              "outlinewidth": 0,
              "ticks": ""
             }
            },
            "type": "scatterpolargl"
           }
          ],
          "scatterternary": [
           {
            "marker": {
             "colorbar": {
              "outlinewidth": 0,
              "ticks": ""
             }
            },
            "type": "scatterternary"
           }
          ],
          "surface": [
           {
            "colorbar": {
             "outlinewidth": 0,
             "ticks": ""
            },
            "colorscale": [
             [
              0,
              "#0d0887"
             ],
             [
              0.1111111111111111,
              "#46039f"
             ],
             [
              0.2222222222222222,
              "#7201a8"
             ],
             [
              0.3333333333333333,
              "#9c179e"
             ],
             [
              0.4444444444444444,
              "#bd3786"
             ],
             [
              0.5555555555555556,
              "#d8576b"
             ],
             [
              0.6666666666666666,
              "#ed7953"
             ],
             [
              0.7777777777777778,
              "#fb9f3a"
             ],
             [
              0.8888888888888888,
              "#fdca26"
             ],
             [
              1,
              "#f0f921"
             ]
            ],
            "type": "surface"
           }
          ],
          "table": [
           {
            "cells": {
             "fill": {
              "color": "#EBF0F8"
             },
             "line": {
              "color": "white"
             }
            },
            "header": {
             "fill": {
              "color": "#C8D4E3"
             },
             "line": {
              "color": "white"
             }
            },
            "type": "table"
           }
          ]
         },
         "layout": {
          "annotationdefaults": {
           "arrowcolor": "#2a3f5f",
           "arrowhead": 0,
           "arrowwidth": 1
          },
          "autotypenumbers": "strict",
          "coloraxis": {
           "colorbar": {
            "outlinewidth": 0,
            "ticks": ""
           }
          },
          "colorscale": {
           "diverging": [
            [
             0,
             "#8e0152"
            ],
            [
             0.1,
             "#c51b7d"
            ],
            [
             0.2,
             "#de77ae"
            ],
            [
             0.3,
             "#f1b6da"
            ],
            [
             0.4,
             "#fde0ef"
            ],
            [
             0.5,
             "#f7f7f7"
            ],
            [
             0.6,
             "#e6f5d0"
            ],
            [
             0.7,
             "#b8e186"
            ],
            [
             0.8,
             "#7fbc41"
            ],
            [
             0.9,
             "#4d9221"
            ],
            [
             1,
             "#276419"
            ]
           ],
           "sequential": [
            [
             0,
             "#0d0887"
            ],
            [
             0.1111111111111111,
             "#46039f"
            ],
            [
             0.2222222222222222,
             "#7201a8"
            ],
            [
             0.3333333333333333,
             "#9c179e"
            ],
            [
             0.4444444444444444,
             "#bd3786"
            ],
            [
             0.5555555555555556,
             "#d8576b"
            ],
            [
             0.6666666666666666,
             "#ed7953"
            ],
            [
             0.7777777777777778,
             "#fb9f3a"
            ],
            [
             0.8888888888888888,
             "#fdca26"
            ],
            [
             1,
             "#f0f921"
            ]
           ],
           "sequentialminus": [
            [
             0,
             "#0d0887"
            ],
            [
             0.1111111111111111,
             "#46039f"
            ],
            [
             0.2222222222222222,
             "#7201a8"
            ],
            [
             0.3333333333333333,
             "#9c179e"
            ],
            [
             0.4444444444444444,
             "#bd3786"
            ],
            [
             0.5555555555555556,
             "#d8576b"
            ],
            [
             0.6666666666666666,
             "#ed7953"
            ],
            [
             0.7777777777777778,
             "#fb9f3a"
            ],
            [
             0.8888888888888888,
             "#fdca26"
            ],
            [
             1,
             "#f0f921"
            ]
           ]
          },
          "colorway": [
           "#636efa",
           "#EF553B",
           "#00cc96",
           "#ab63fa",
           "#FFA15A",
           "#19d3f3",
           "#FF6692",
           "#B6E880",
           "#FF97FF",
           "#FECB52"
          ],
          "font": {
           "color": "#2a3f5f"
          },
          "geo": {
           "bgcolor": "white",
           "lakecolor": "white",
           "landcolor": "#E5ECF6",
           "showlakes": true,
           "showland": true,
           "subunitcolor": "white"
          },
          "hoverlabel": {
           "align": "left"
          },
          "hovermode": "closest",
          "mapbox": {
           "style": "light"
          },
          "paper_bgcolor": "white",
          "plot_bgcolor": "#E5ECF6",
          "polar": {
           "angularaxis": {
            "gridcolor": "white",
            "linecolor": "white",
            "ticks": ""
           },
           "bgcolor": "#E5ECF6",
           "radialaxis": {
            "gridcolor": "white",
            "linecolor": "white",
            "ticks": ""
           }
          },
          "scene": {
           "xaxis": {
            "backgroundcolor": "#E5ECF6",
            "gridcolor": "white",
            "gridwidth": 2,
            "linecolor": "white",
            "showbackground": true,
            "ticks": "",
            "zerolinecolor": "white"
           },
           "yaxis": {
            "backgroundcolor": "#E5ECF6",
            "gridcolor": "white",
            "gridwidth": 2,
            "linecolor": "white",
            "showbackground": true,
            "ticks": "",
            "zerolinecolor": "white"
           },
           "zaxis": {
            "backgroundcolor": "#E5ECF6",
            "gridcolor": "white",
            "gridwidth": 2,
            "linecolor": "white",
            "showbackground": true,
            "ticks": "",
            "zerolinecolor": "white"
           }
          },
          "shapedefaults": {
           "line": {
            "color": "#2a3f5f"
           }
          },
          "ternary": {
           "aaxis": {
            "gridcolor": "white",
            "linecolor": "white",
            "ticks": ""
           },
           "baxis": {
            "gridcolor": "white",
            "linecolor": "white",
            "ticks": ""
           },
           "bgcolor": "#E5ECF6",
           "caxis": {
            "gridcolor": "white",
            "linecolor": "white",
            "ticks": ""
           }
          },
          "title": {
           "x": 0.05
          },
          "xaxis": {
           "automargin": true,
           "gridcolor": "white",
           "linecolor": "white",
           "ticks": "",
           "title": {
            "standoff": 15
           },
           "zerolinecolor": "white",
           "zerolinewidth": 2
          },
          "yaxis": {
           "automargin": true,
           "gridcolor": "white",
           "linecolor": "white",
           "ticks": "",
           "title": {
            "standoff": 15
           },
           "zerolinecolor": "white",
           "zerolinewidth": 2
          }
         }
        },
        "width": 1000,
        "xaxis": {
         "anchor": "y",
         "autorange": true,
         "domain": [
          0,
          1
         ],
         "range": [
          -4.005464455860194,
          3.919510563780441
         ],
         "title": {
          "text": "x1"
         },
         "type": "linear"
        },
        "yaxis": {
         "anchor": "x",
         "autorange": true,
         "domain": [
          0,
          1
         ],
         "range": [
          -5.174534172560751,
          7.115161045228022
         ],
         "title": {
          "text": "x2"
         },
         "type": "linear"
        }
       }
      },
      "image/png": "[encoded data removed]",
      "text/html": [
       "<div>                            <div id=\"25e8fd1e-b94b-4319-a0c0-4673044bc269\" class=\"plotly-graph-div\" style=\"height:1000px; width:1000px;\"></div>            <script type=\"text/javascript\">                require([\"plotly\"], function(Plotly) {                    window.PLOTLYENV=window.PLOTLYENV || {};                                    if (document.getElementById(\"25e8fd1e-b94b-4319-a0c0-4673044bc269\")) {                    Plotly.newPlot(                        \"25e8fd1e-b94b-4319-a0c0-4673044bc269\",                        [{\"hovertemplate\":\"party=\\uad6d\\ubbfc\\uc758\\ud798\\u003cbr\\u003ex1=%{x}\\u003cbr\\u003ex2=%{y}\\u003cbr\\u003ename=%{text}\\u003cextra\\u003e\\u003c\\u002fextra\\u003e\",\"legendgroup\":\"\\uad6d\\ubbfc\\uc758\\ud798\",\"marker\":{\"color\":\"#636efa\",\"symbol\":\"circle\"},\"mode\":\"markers+text\",\"name\":\"\\uad6d\\ubbfc\\uc758\\ud798\",\"orientation\":\"v\",\"showlegend\":true,\"text\":[\"\\uc815\\uacbd\\ud76c\",\"\\uc804\\uc8fc\\ud61c\",\"\\uc720\\uacbd\\uc900\",\"\\uc720\\uc758\\ub3d9\",\"\\uad6c\\uc790\\uadfc\",\"\\uc5c4\\ud0dc\\uc601\",\"\\ud0dc\\uc601\\ud638\",\"\\uac15\\ub300\\uc2dd\",\"\\uac15\\ubbfc\\uad6d\",\"\\uac15\\uae30\\uc724\",\"\\uc548\\ucca0\\uc218\",\"\\uc548\\ubcd1\\uae38\",\"\\uc1a1\\uc5b8\\uc11d\",\"\\uc1a1\\uc11d\\uc900\",\"\\uc724\\uc7ac\\uc625\",\"\\uc724\\ub450\\ud604\",\"\\uc724\\ucc3d\\ud604\",\"\\uc724\\uc8fc\\uacbd\",\"\\uc724\\uc601\\uc11d\",\"\\uc724\\ud55c\\ud64d\",\"\\uc724\\uc0c1\\ud604\",\"\\ucd5c\\uc7ac\\ud615\",\"\\ucd5c\\uc5f0\\uc219\",\"\\ucd5c\\uc2b9\\uc7ac\",\"\\ucd5c\\ucd98\\uc2dd\",\"\\ucd5c\\ud615\\ub450\",\"\\ucd5c\\uc601\\ud76c\",\"\\uc7a5\\ub3d9\\ud601\",\"\\uc7a5\\uc81c\\uc6d0\",\"\\uc11c\\uc77c\\uc900\",\"\\uc11c\\uc815\\uc219\",\"\\uc11c\\ubcd1\\uc218\",\"\\uc11c\\ubc94\\uc218\",\"\\uc131\\uc77c\\uc885\",\"\\uc870\\uba85\\ud76c\",\"\\uc870\\ud574\\uc9c4\",\"\\uc8fc\\ud638\\uc601\",\"\\ubc15\\ud615\\uc218\",\"\\ubc15\\ub300\\ucd9c\",\"\\ubc15\\ub300\\uc218\",\"\\ubc15\\ub355\\ud760\",\"\\ubc15\\uc131\\uc911\",\"\\ubc15\\uc9c4\",\"\\ubc15\\uc815\\ud558\",\"\\ubc15\\uc815\\ud558\",\"\\ubc15\\uc218\\uc601\",\"\\ubc15\\uc131\\ubbfc\",\"\\ub958\\uc131\\uac78\",\"\\uad8c\\uc740\\ud76c\",\"\\uad8c\\uc131\\ub3d9\",\"\\uad8c\\uba85\\ud638\",\"\\uad8c\\uc601\\uc138\",\"\\uc9c0\\uc131\\ud638\",\"\\ud558\\ud0dc\\uacbd\",\"\\ud64d\\ubb38\\ud45c\",\"\\ud64d\\uc11d\\uc900\",\"\\uc804\\ubd09\\ubbfc\",\"\\uc2e0\\uc6d0\\uc2dd\",\"\\ubc31\\uc885\\ud5cc\",\"\\ucd94\\uacbd\\ud638\",\"\\ubc30\\uc900\\uc601\",\"\\ubc30\\ud604\\uc9c4\",\"\\ud5c8\\uc740\\uc544\",\"\\uc870\\uc218\\uc9c4\",\"\\uc870\\uc740\\ud76c\",\"\\uc870\\uacbd\\ud0dc\",\"\\uc815\\uc6b0\\ud0dd\",\"\\uc815\\ub3d9\\ub9cc\",\"\\uc815\\uc810\\uc2dd\",\"\\uc815\\ud76c\\uc6a9\",\"\\uc815\\ucc2c\\ubbfc\",\"\\uc815\\uc9c4\\uc11d\",\"\\uc815\\uc6b4\\ucc9c\",\"\\uae40\\ud615\\ub3d9\",\"\\uae40\\ud0dc\\ud638\",\"\\uae40\\uc120\\uad50\",\"\\uae40\\ud559\\uc6a9\",\"\\uae40\\ub3c4\\uc74d\",\"\\uae40\\uc131\\uc6d0\",\"\\uae40\\uc2b9\\uc218\",\"\\uae40\\uc601\\uc120\",\"\\uae40\\uc815\\uc7ac\",\"\\uae40\\ud76c\\uad6d\",\"\\uae40\\ud76c\\uace4\",\"\\uae40\\uc6a9\\ud310\",\"\\uae40\\uc0c1\\ud6c8\",\"\\uae40\\uc608\\uc9c0\",\"\\uae40\\uc11d\\uae30\",\"\\uae40\\ubbf8\\uc560\",\"\\uae40\\uc601\\uc2dd\",\"\\uae40\\uae30\\ud604\",\"\\uae40\\uc6c5\",\"\\ud55c\\ubb34\\uacbd\",\"\\ud55c\\uae30\\ud638\",\"\\ub178\\uc6a9\\ud638\",\"\\uc591\\uae08\\ud76c\",\"\\uc720\\uc0c1\\ubc94\",\"\\uc774\\uc778\\uc120\",\"\\uc774\\uc8fc\\ud658\",\"\\uc774\\ucca0\\uaddc\",\"\\uc774\\ucc44\\uc775\",\"\\uc774\\uc6a9\\ud638\",\"\\uc774\\ud5cc\\uc2b9\",\"\\uc774\\uba85\\uc218\",\"\\uc774\\ub9cc\\ud76c\",\"\\uc774\\ud0dc\\uaddc\",\"\\uc774\\ub2ec\\uace4\",\"\\uc774\\uc885\\ubc30\",\"\\uc774\\uc885\\uc131\",\"\\uc774\\uc6a9\",\"\\uc774\\uc591\\uc218\",\"\\uc784\\ubcd1\\ud5cc\",\"\\uc784\\uc774\\uc790\"],\"x\":[1.560594647502193,1.6906158752793605,1.1640423453816744,-0.2646737586593649,0.4799149449179347,0.8472231727929116,0.417693890428398,0.21610087761457286,1.2316968148982206,0.036273343692215,0.3107336810708041,0.20788892804873713,1.9461326963768244,1.2056976949333478,1.781504654460847,1.4128976264939357,1.121471109582905,1.7572531337994861,0.8531701926241153,1.330895860282322,0.9669187026923933,1.8197814834073167,0.4806783378461585,0.9796422212188987,0.1684657031889634,0.669804330271213,0.47128315935538395,1.1498131127086384,2.343800867298807,0.9713606379924159,1.1561283815906458,0.5683645770845491,0.5246572014096631,0.9706182533571659,0.09014321014217899,0.1296833772661319,1.092550536034505,-0.32315269655556667,1.923486966793779,0.3225113806098579,0.765241343038928,1.3116009055883806,-0.4396641395786315,-2.91812444500442,1.2530973889053858,0.6232492035604398,0.6107858070306573,0.6725851960263742,1.0342837878758862,1.250943187990489,0.7065786186339178,-1.6890180521376192,0.7211116771333405,1.6614689733619448,0.3190371682324863,1.296790490381971,-0.21897620555460914,0.21959203888757792,0.7960881094960909,1.5493445440499902,0.6082795639804394,2.279805672236033,1.3221215070197618,0.6570346704688435,1.2625582617847981,0.8073200653783532,0.35192390449000943,-0.27153226528768726,1.744187818743631,0.28579925648040666,1.40064888252861,2.215337573309468,0.6337899228164919,0.564105010377419,1.0699630797573814,-0.21789106821773707,0.14240353143513163,0.2541359316252376,0.11522610999116246,0.39054336681147234,-0.3391752755768073,1.415749808189704,1.5453025956642226,0.3731051756186041,0.08298406138116018,0.9140614160735034,1.0587854450113525,1.2307039874843622,0.8050997161151733,0.9867977226588889,2.5813855071552743,1.6561549900509167,1.0095518665260053,-0.16544646678730754,1.0770570550372762,1.1160712913793844,0.7350054430655524,0.2329874736292385,-0.16392795524499992,1.8069610596039578,0.8608331580384853,1.4117881269552899,0.2600471230356932,1.2756438295671333,1.590169301897737,0.9015836207585796,1.3077045136123528,0.46624936727125377,0.09151943571284739,1.016617219979279,2.0216549523226237,1.3359199283865495,0.7691211529409284],\"xaxis\":\"x\",\"y\":[5.164326209864377,4.935037835163463,5.933847736547373,5.164441801369689,6.283949522821454,5.601588843353076,5.9847614394197475,5.414305744170728,5.163795614674144,6.089515660936317,5.491390796169665,5.898545227132769,5.086489102294853,5.481399009494912,4.560454851112358,5.67516125957882,5.777326991102801,4.905426189176851,5.07720791350069,5.166568831861137,5.342198185627522,5.007848930032769,4.08611922794278,4.943420697352542,6.10280142513331,4.9998757431839085,6.13352335161276,5.835219493160056,3.9368427362201905,5.604255971915999,5.207070828956299,5.946374942022732,5.852751399400264,5.985602190085236,5.9348040985172155,5.133603049829125,4.968787979611146,5.253254567575527,5.0669851385079285,6.259369838553503,6.2057118363580654,5.119888848331343,5.969274168696769,4.937882749435497,5.558733884202291,5.3434286566997224,6.235554416189472,5.784386622028088,3.294004667565682,5.699293814529969,6.016915717538747,3.23069508406887,6.128803904477603,5.254305459402872,5.304685554026469,5.38817938584349,5.946762887624172,4.828840120748304,6.279802002521406,6.447087497051713,5.695982429639725,4.2516857848310785,4.396592600545063,5.528283765800562,5.664046985128228,5.390489126035853,6.090385979880879,5.645863213325004,4.330464291804172,5.939740487176681,6.396058716734142,4.679646628708091,6.032461263173026,5.770616785471629,5.381254646144838,5.8692223858168715,5.713435038650818,5.711147052625847,6.273155208300198,5.479578294657903,5.446941275779581,5.379071013523208,4.305755665190177,6.2690112883149895,6.284229826976974,5.850501638637286,5.2228015849691145,5.815686744795763,5.624758352613812,5.909746696968041,3.9394914786895647,4.699555753908748,5.795278839136696,4.567835259702309,5.790363705983788,6.002490024147415,5.420052966980055,5.9759598119372415,6.09049257688223,5.193060534549891,5.728674809497769,5.233515945250868,6.271907234862588,5.883599655545974,5.1970791728661565,5.3017701547421625,5.245866792837072,5.710259694012653,6.101736398437915,5.628177259945408,4.571908437510656,5.814410660939998,5.834230726368491],\"yaxis\":\"y\",\"type\":\"scatter\"},{\"hovertemplate\":\"party=\\ub354\\ubd88\\uc5b4\\ubbfc\\uc8fc\\ub2f9\\u003cbr\\u003ex1=%{x}\\u003cbr\\u003ex2=%{y}\\u003cbr\\u003ename=%{text}\\u003cextra\\u003e\\u003c\\u002fextra\\u003e\",\"legendgroup\":\"\\ub354\\ubd88\\uc5b4\\ubbfc\\uc8fc\\ub2f9\",\"marker\":{\"color\":\"#EF553B\",\"symbol\":\"circle\"},\"mode\":\"markers+text\",\"name\":\"\\ub354\\ubd88\\uc5b4\\ubbfc\\uc8fc\\ub2f9\",\"orientation\":\"v\",\"showlegend\":true,\"text\":[\"\\uc804\\ud61c\\uc219\",\"\\uc804\\ud574\\ucca0\",\"\\uc720\\uc815\\uc8fc\",\"\\ucc9c\\uc900\\ud638\",\"\\ub0a8\\uc778\\uc21c\",\"\\ubcc0\\uc7ac\\uc77c\",\"\\uc778\\uc7ac\\uadfc\",\"\\uc624\\uae30\\ud615\",\"\\uc624\\uc601\\ud658\",\"\\uae30\\ub3d9\\ubbfc\",\"\\uac15\\uc120\\uc6b0\",\"\\uac15\\ud6c8\\uc2dd\",\"\\uac15\\ub4dd\\uad6c\",\"\\uac15\\ubbfc\\uc815\",\"\\uac15\\ubcd1\\uc6d0\",\"\\ub9f9\\uc131\\uaddc\",\"\\uc548\\uaddc\\ubc31\",\"\\uc548\\ubbfc\\uc11d\",\"\\uc548\\ud638\\uc601\",\"\\uc1a1\\uc7ac\\ud638\",\"\\uc1a1\\uae30\\ud5cc\",\"\\uc1a1\\uc625\\uc8fc\",\"\\uc1a1\\uac11\\uc11d\",\"\\uc724\\ud6c4\\ub355\",\"\\uc724\\uac74\\uc601\",\"\\uc724\\uc7ac\\uac11\",\"\\uc724\\ud638\\uc911\",\"\\uc724\\uc601\\ub355\",\"\\uc724\\uc601\\ucc2c\",\"\\uc724\\uc900\\ubcd1\",\"\\ucd5c\\uc778\\ud638\",\"\\ucd5c\\uae30\\uc0c1\",\"\\ucd5c\\uac15\\uc6b1\",\"\\ucd5c\\ud61c\\uc601\",\"\\ucd5c\\uc885\\uc724\",\"\\uac15\\uc900\\ud604\",\"\\uc7a5\\ucca0\\ubbfc\",\"\\uc7a5\\uacbd\\ud0dc\",\"\\uc11c\\uc601\\uc11d\",\"\\uc11c\\ub3d9\\uc6a9\",\"\\uc11c\\uc601\\uad50\",\"\\uc11c\\uc0bc\\uc11d\",\"\\ubb38\\uc9c4\\uc11d\",\"\\ubb38\\uc815\\ubcf5\",\"\\uc870\\uc624\\uc12d\",\"\\uc8fc\\ucca0\\ud604\",\"\\ubc15\\uc0c1\\ud601\",\"\\ubc15\\uc7ac\\ud638\",\"\\ubc15\\uc8fc\\ubbfc\",\"\\ubc15\\ud64d\\uadfc\",\"\\ubc15\\uad11\\uc628\",\"\\ubc15\\ubcd1\\uc11d\",\"\\ubc15\\uc6a9\\uc9c4\",\"\\ubc15\\uc131\\uc900\",\"\\ubc15\\ubc94\\uacc4\",\"\\ubc15\\uc601\\uc21c\",\"\\ubc15\\ucc2c\\ub300\",\"\\ubc15\\uc815\",\"\\uad8c\\uce60\\uc2b9\",\"\\uad8c\\uc778\\uc219\",\"\\ud64d\\uc131\\uad6d\",\"\\ud64d\\uc601\\ud45c\",\"\\ud64d\\uc775\\ud45c\",\"\\ud64d\\uc815\\ubbfc\",\"\\ud64d\\uae30\\uc6d0\",\"\\uc804\\uc6a9\\uae30\",\"\\uc804\\uc7ac\\uc218\",\"\\uc2e0\\ub3d9\\uadfc\",\"\\uc2e0\\uc601\\ub300\",\"\\uc2e0\\ud604\\uc601\",\"\\ubc31\\ud61c\\ub828\",\"\\uc6b0\\uc6d0\\uc2dd\",\"\\uc6b0\\uc0c1\\ud638\",\"\\uc124\\ud6c8\",\"\\uc18c\\ubcd1\\ud6c8\",\"\\uc18c\\ubcd1\\ucca0\",\"\\ud5c8\\uc601\",\"\\ud5c8\\uc885\\uc2dd\",\"\\uc870\\uc751\\ucc9c\",\"\\uc870\\uc2b9\\ub798\",\"\\uc870\\uc815\\uc2dd\",\"\\uc2e0\\uc815\\ud6c8\",\"\\ub3c4\\uc885\\ud658\",\"\\uc815\\ud544\\ubaa8\",\"\\uc815\\uc131\\ud638\",\"\\uc815\\uc77c\\uc601\",\"\\uc815\\ucd98\\uc219\",\"\\uc815\\ud0dc\\ud638\",\"\\uc815\\uccad\\ub798\",\"\\uae40\\uacbd\\ub9cc\",\"\\uae40\\uc6d0\\uc774\",\"\\uae40\\uc2b9\\uc6d0\",\"\\uae40\\uc8fc\\uc601\",\"\\uae40\\ucca0\\ubbfc\",\"\\uae40\\ud0dc\\ub144\",\"\\uae40\\uc758\\uacb8\",\"\\uae40\\uc6a9\\ubbfc\",\"\\uae40\\ud64d\\uac78\",\"\\uae40\\uc131\\uc8fc\",\"\\uae40\\uc2b9\\ub0a8\",\"\\uae40\\uad50\\ud765\",\"\\uae40\\ubbfc\\uae30\",\"\\uae40\\ubbfc\\ucca0\",\"\\uae40\\ub450\\uad00\",\"\\uae40\\uc131\\ud658\",\"\\uae40\\uc601\\ud638\",\"\\uae40\\ud68c\\uc7ac\",\"\\uae40\\ubcd1\\uc8fc\",\"\\uae40\\uc601\\uc8fc\",\"\\uae40\\uc601\\uc9c4\",\"\\uae40\\ubbfc\\uc11d\",\"\\uae40\\uc601\\ubc30\",\"\\uae40\\uc218\\ud765\",\"\\uae40\\ud55c\\uc815\",\"\\uae40\\uc724\\ub355\",\"\\uae40\\uacbd\\ud611\",\"\\uae40\\ubcd1\\uae30\",\"\\uae40\\ubcd1\\uc6b1\",\"\\uae40\\uc0c1\\ud76c\",\"\\uae40\\uc815\\ud638\",\"\\uae40\\ud55c\\uaddc\",\"\\uae40\\uc885\\ubbfc\",\"\\ubbfc\\ud64d\\ucca0\",\"\\ubbfc\\ubcd1\\ub355\",\"\\ubbfc\\ud615\\ubc30\",\"\\uc9c4\\uc120\\ubbf8\",\"\\uc9c4\\uc131\\uc900\",\"\\ud55c\\uc900\\ud638\",\"\\ud55c\\ubcd1\\ub3c4\",\"\\ud55c\\uc815\\uc560\",\"\\uace0\\ubbfc\\uc815\",\"\\uace0\\uc6a9\\uc9c4\",\"\\uace0\\uc601\\uc778\",\"\\uc704\\uc131\\uace4\",\"\\uc5b4\\uae30\\uad6c\",\"\\ud669\\ud76c\",\"\\ud669\\uc6b4\\ud558\",\"\\ub178\\uc6c5\\ub798\",\"\\uc591\\uae30\\ub300\",\"\\uc591\\uacbd\\uc219\",\"\\uc591\\uc774\\uc6d0\\uc601\",\"\\uc720\\uae30\\ud64d\",\"\\uc720\\ub3d9\\uc218\",\"\\uc774\\uc778\\uc601\",\"\\uc774\\uac1c\\ud638\",\"\\uc774\\uc6d0\\uc6b1\",\"\\uc774\\uc7ac\\uba85\",\"\\uc774\\uc7ac\\uc815\",\"\\uc774\\uc218\\uc9c4\",\"\\uc774\\ud559\\uc601\",\"\\uc774\\uc7a5\\uc12d\",\"\\uc774\\uc6a9\\uc120\",\"\\uc774\\ub3d9\\uc8fc\",\"\\uc774\\uc815\\ubb38\",\"\\uc774\\ud574\\uc2dd\",\"\\uc774\\uc6d0\\ud0dd\",\"\\uc774\\ud615\\uc11d\",\"\\uc774\\ubcd1\\ud6c8\",\"\\uc774\\uc0c1\\ud5cc\",\"\\uc774\\uc0c1\\ubbfc\",\"\\uc774\\uc218\\uc9c4\",\"\\uc774\\uc18c\\uc601\",\"\\uc774\\ud0c4\\ud76c\",\"\\uc774\\uc6a9\\ube48\",\"\\uc774\\uc6a9\\uc6b0\",\"\\uc784\\uc624\\uacbd\",\"\\uc784\\ud638\\uc120\",\"\\uc784\\uc885\\uc131\"],\"x\":[0.73321984038572,-0.20366420104093486,-0.4451465311782305,-0.17325191490807937,0.08056683655728128,0.37700914022849463,-0.26810007041476974,1.3711646771426096,-0.547565121302084,-1.2865897074887305,0.022184523961496224,0.1488001561446139,-0.6943936020737186,-1.985174021255585,-0.5840148851324567,-0.0942666184010554,0.09323047909435149,-1.6809812057921507,-1.311424920307581,-0.6014615949946674,0.3070460427232698,-0.8983349477970225,-0.5713955737140928,-1.102352987954586,-0.6414886484266596,-0.9172353601388661,-0.03305119585193253,-1.0420294481120498,0.4144574614771985,-0.9361651386159696,-0.6923139390609083,0.04536794347654807,-1.7033641033044291,-0.2965635945977609,-0.7836084104125735,0.3387833841744483,-0.743503845825814,-0.6627462168510495,-0.051113533352094544,-1.2260273482769524,-0.5333418924400889,-1.0332007330394726,-0.98857226746133,-1.6136956629907033,-0.466209472396431,-1.3565598446018263,-1.2032898440401452,-0.5186939746415974,-1.0574236363342537,-0.11583173281153057,0.4410404517121207,-0.2708685587137213,0.2866872717465467,-0.16677439081351972,0.9450866339196313,-1.6155823953788733,0.08569069953079919,-0.8260901992761318,-0.5680749498348102,0.10699195172082467,-0.4409679500932498,-0.24101260864594937,0.35137248177139807,0.09392355419122217,-0.5980153905100444,0.271298385526144,-0.4573261677508324,-1.0256848348615553,0.036413072396170976,0.044567556197675454,-0.21620680657764207,-0.2518749921980351,1.1201692548050544,0.5531133055498823,-1.1848390939811813,0.5915437083536003,-0.7383812405431507,-0.8644232937172005,-1.5008327201057783,-1.8020888412356333,-1.9660160401891216,-1.3133026841736537,-0.0032542656013793666,-0.13466691010215828,-0.5429623469352165,-0.9114240476187163,-0.2772271406617551,-0.15378260453554618,1.3195803658347822,0.4037839583748891,-0.26201161622510083,-0.5637924283896673,-0.882620532328372,-1.7941079419958057,-0.0840133721594922,0.27924417837835813,-1.7181589863671973,-0.9830863437401517,-0.4856578744646834,-1.4627996352643011,-1.822823652374541,0.19526782269791002,-0.491742942853923,-0.7611958531878807,-0.30880969503037015,-0.34644450590853004,-0.729292758378989,-0.21621441599380486,0.2317112507379325,-1.581753220179937,-0.11254635661590584,-0.4717230665973185,-0.3620023479293539,0.9775926920434226,-1.4641383340244944,0.33925046107911266,-0.7915535018238334,1.3769512077944512,0.023656141532309476,-1.0211258233188831,-0.3662699557875106,-0.6889053765981484,-0.7304174087174757,-0.44177012537546034,-1.6919173746565215,-0.006284057503352178,-0.11251859764297893,-0.8768382734508896,-1.153895061221574,-0.6403062296804644,-0.3271952271085151,-0.3402232310471292,-0.03587400512855474,-1.2941007052547102,-1.2258845929705495,-0.8668176650428556,-0.8803005108986116,-1.136247263672579,-0.33241012955034266,-1.13807558170715,0.31786561930637275,-0.5903906784857543,0.31988368024101194,-0.11512880479404118,-1.3630485275924522,-0.1432305510580831,1.2735029054694191,0.5590097061472274,0.0934315918083963,-0.8330072208268148,-0.4328121258249249,-0.04319354566763463,-1.0766331023963964,-0.7178839250769258,0.21354576466032973,-1.172580428133921,-0.16575910244316067,-0.4168042252687179,-1.0256539982121873,1.5247957662003675,-0.47811380454078634,0.2722472641813147,0.6749557998692856,-0.5570632513135816,0.11920506071745929,0.09455804094923063,-1.0629566772777534,-0.20352896070154383],\"xaxis\":\"x\",\"y\":[-3.8169405400290053,-3.545969194827626,-3.8348931626991356,-4.379945783247484,-3.8956878877656456,-3.2362283967110304,-3.5792928030324913,-4.071632938926048,-3.6376036537223255,-3.7125920149151916,-3.612105950316696,-3.987856071965889,-3.9024526138490336,-3.430708663674758,-2.894285096663362,-3.2968251532979167,-3.011359949943467,-3.3149676246519544,-2.914517920638427,-3.4029490573110928,-3.081668491095675,-4.097820231772914,-4.173699194657658,-3.5305389924064845,-3.849069700939669,-3.0496237371368147,-3.2039083568331925,-3.6553774415764417,-3.544783798560672,-4.083983970849469,-4.025233294317196,-4.250390563569152,-2.973913449830281,-3.4848466517063392,-3.935627078184542,-3.600001694437832,-3.7382287286457574,-3.488306515789025,-3.8064701593161336,-3.646727834213305,-4.208986046122782,-3.3545234534121455,-2.8667004951119894,-2.996539009229321,-4.5064606243844425,-3.5649216394063217,-4.014044715528169,-2.962802534486948,-3.233024102050315,-4.022728264967372,-4.207711345213293,-4.488517493750824,-3.4680884802267236,-3.667707754041354,-3.7073526788433537,-2.9511298304271776,-3.792938092334035,-3.6004616119897332,-2.959490738999729,-3.5883098509274594,-3.9360467406477233,-3.3986180134113435,-4.095199647307417,-4.0659598473841605,-3.985540339383371,-3.919596526942213,-2.989296930137997,-4.0109462420119435,-3.68133561980284,-3.871894018091269,-3.1710347836424266,-3.9270623231536157,-3.9176986678083496,-3.908603017047061,-3.7641598597914747,-4.076345650916555,-4.061246676726202,-3.429061729488903,-3.2624952264868394,-2.6736763997513986,-2.6847255078842602,-3.8247458342662224,-3.383940995210755,-4.22408590757069,-3.8480167837818176,-3.5286895404945184,-3.6295521837517466,-3.7742344174482336,-3.9570290283737446,-3.796209991362111,-4.022860366149896,-3.235631104527086,-3.346184858886935,-3.3655497899130613,-4.000355878797546,-3.698306930116149,-3.264714222497652,-3.7176323078490072,-3.365786577738993,-3.5793814610717516,-3.055809669602088,-3.7975591245325435,-3.7433342556519302,-2.9820664355570545,-4.114119698085674,-4.113990107499293,-4.374930497311161,-4.361621862609852,-3.547274663683662,-3.1750375071987764,-3.5575905407563084,-3.287176544435075,-3.816502736054322,-4.285197884081079,-3.1954433318382804,-3.9400005371329705,-2.8082873511304833,0.6198010475275936,-4.08119478391566,-3.87622710460496,-3.2856482142564682,-3.342872811088159,-2.816864856672249,-4.073161599492113,-3.5984580097264525,-3.0921524546334873,-3.9046854225301515,-3.7054275435067545,-3.1430776390981534,-3.0903565507992092,-4.3413496553315385,-3.554043842664244,-3.560365492699758,-3.51447159731345,-3.0183788818354182,-2.8361639113805173,-3.771800718243676,-3.912357139243496,-2.9961264807337304,-3.0994217810862175,-3.554198747221991,-3.812522037357914,-3.726701311453923,-3.751805303594949,-3.146603132575951,-4.130751102524556,-3.812055068046948,-3.6261698175319257,-3.3533162293048666,-3.8480839340734634,-3.488278852463987,-3.7415514541481687,-3.926435388438925,-3.210247922034789,-3.906370823303441,-2.8343963361350912,-4.020791803009543,-3.7673793458901645,-2.9136199479409246,-3.41571944699258,-3.6303888241743776,-4.224999632772259,-3.904722649097285,-3.951449076398811,-3.715972475339432,-3.533645511469873,-3.965262847913496,-4.152626679497542],\"yaxis\":\"y\",\"type\":\"scatter\"},{\"hovertemplate\":\"party=\\uc815\\uc758\\ub2f9\\u003cbr\\u003ex1=%{x}\\u003cbr\\u003ex2=%{y}\\u003cbr\\u003ename=%{text}\\u003cextra\\u003e\\u003c\\u002fextra\\u003e\",\"legendgroup\":\"\\uc815\\uc758\\ub2f9\",\"marker\":{\"color\":\"#00cc96\",\"symbol\":\"circle\"},\"mode\":\"markers+text\",\"name\":\"\\uc815\\uc758\\ub2f9\",\"orientation\":\"v\",\"showlegend\":true,\"text\":[\"\\uac15\\uc740\\ubbf8\",\"\\uc7a5\\ud61c\\uc601\",\"\\ub958\\ud638\\uc815\",\"\\ubc30\\uc9c4\\uad50\",\"\\uc2ec\\uc0c1\\uc815\",\"\\uc774\\uc740\\uc8fc\"],\"x\":[-2.5785098540326934,3.484915159477567,2.852762014853872,-3.3215734278283264,-3.1460554418437128,-3.421883168728041],\"xaxis\":\"x\",\"y\":[-1.2619869731916586,-1.1132533901339736,-0.8586607938882189,-1.0363693664701754,-1.1466571314694975,-0.7535704707971995],\"yaxis\":\"y\",\"type\":\"scatter\"},{\"hovertemplate\":\"party=\\uc9c4\\ubcf4\\ub2f9\\u003cbr\\u003ex1=%{x}\\u003cbr\\u003ex2=%{y}\\u003cbr\\u003ename=%{text}\\u003cextra\\u003e\\u003c\\u002fextra\\u003e\",\"legendgroup\":\"\\uc9c4\\ubcf4\\ub2f9\",\"marker\":{\"color\":\"#ab63fa\",\"symbol\":\"circle\"},\"mode\":\"markers+text\",\"name\":\"\\uc9c4\\ubcf4\\ub2f9\",\"orientation\":\"v\",\"showlegend\":true,\"text\":[\"\\uac15\\uc131\\ud76c\"],\"x\":[-3.5708690515573203],\"xaxis\":\"x\",\"y\":[-1.0031605421780914],\"yaxis\":\"y\",\"type\":\"scatter\"},{\"hovertemplate\":\"party=\\ubb34\\uc18c\\uc18d\\u003cbr\\u003ex1=%{x}\\u003cbr\\u003ex2=%{y}\\u003cbr\\u003ename=%{text}\\u003cextra\\u003e\\u003c\\u002fextra\\u003e\",\"legendgroup\":\"\\ubb34\\uc18c\\uc18d\",\"marker\":{\"color\":\"#FFA15A\",\"symbol\":\"circle\"},\"mode\":\"markers+text\",\"name\":\"\\ubb34\\uc18c\\uc18d\",\"orientation\":\"v\",\"showlegend\":true,\"text\":[\"\\uc724\\uad00\\uc11d\",\"\\uc724\\ubbf8\\ud5a5\",\"\\ubc15\\uc644\\uc8fc\",\"\\ud558\\uc601\\uc81c\",\"\\ud669\\ubcf4\\uc2b9\\ud76c\",\"\\uae40\\ub0a8\\uad6d\",\"\\uae40\\uc9c4\\ud45c\",\"\\uc591\\uc815\\uc219\",\"\\uc774\\uc131\\ub9cc\"],\"x\":[-1.1470220165259364,-2.2175114839633405,-1.1983528223961935,0.018619941040052868,1.4561551619157571,-1.8370057692169144,-3.419344426147068,-1.780937093398531,-1.697025484178884],\"xaxis\":\"x\",\"y\":[-3.838429396660394,-3.014027310939932,-3.3606009879861367,5.745593894498882,5.80019895691525,-3.2239981487268263,1.125828717725308,-2.8816204009784463,-3.372589137141628],\"yaxis\":\"y\",\"type\":\"scatter\"},{\"hovertemplate\":\"party=\\uc2dc\\ub300\\uc804\\ud658\\u003cbr\\u003ex1=%{x}\\u003cbr\\u003ex2=%{y}\\u003cbr\\u003ename=%{text}\\u003cextra\\u003e\\u003c\\u002fextra\\u003e\",\"legendgroup\":\"\\uc2dc\\ub300\\uc804\\ud658\",\"marker\":{\"color\":\"#19d3f3\",\"symbol\":\"circle\"},\"mode\":\"markers+text\",\"name\":\"\\uc2dc\\ub300\\uc804\\ud658\",\"orientation\":\"v\",\"showlegend\":true,\"text\":[\"\\uc870\\uc815\\ud6c8\"],\"x\":[-0.6930003234554677],\"xaxis\":\"x\",\"y\":[2.890338282279709],\"yaxis\":\"y\",\"type\":\"scatter\"},{\"hovertemplate\":\"party=\\ud55c\\uad6d\\uc758\\ud76c\\ub9dd\\u003cbr\\u003ex1=%{x}\\u003cbr\\u003ex2=%{y}\\u003cbr\\u003ename=%{text}\\u003cextra\\u003e\\u003c\\u002fextra\\u003e\",\"legendgroup\":\"\\ud55c\\uad6d\\uc758\\ud76c\\ub9dd\",\"marker\":{\"color\":\"#FF6692\",\"symbol\":\"circle\"},\"mode\":\"markers+text\",\"name\":\"\\ud55c\\uad6d\\uc758\\ud76c\\ub9dd\",\"orientation\":\"v\",\"showlegend\":true,\"text\":[\"\\uc591\\ud5a5\\uc790\"],\"x\":[1.4490375623867584],\"xaxis\":\"x\",\"y\":[0.5292230252813471],\"yaxis\":\"y\",\"type\":\"scatter\"},{\"hovertemplate\":\"party=\\uae30\\ubcf8\\uc18c\\ub4dd\\ub2f9\\u003cbr\\u003ex1=%{x}\\u003cbr\\u003ex2=%{y}\\u003cbr\\u003ename=%{text}\\u003cextra\\u003e\\u003c\\u002fextra\\u003e\",\"legendgroup\":\"\\uae30\\ubcf8\\uc18c\\ub4dd\\ub2f9\",\"marker\":{\"color\":\"#B6E880\",\"symbol\":\"circle\"},\"mode\":\"markers+text\",\"name\":\"\\uae30\\ubcf8\\uc18c\\ub4dd\\ub2f9\",\"orientation\":\"v\",\"showlegend\":true,\"text\":[\"\\uc6a9\\ud61c\\uc778\"],\"x\":[1.6418056455687962],\"xaxis\":\"x\",\"y\":[-2.5313401811182055],\"yaxis\":\"y\",\"type\":\"scatter\"}],                        {\"template\":{\"data\":{\"histogram2dcontour\":[{\"type\":\"histogram2dcontour\",\"colorbar\":{\"outlinewidth\":0,\"ticks\":\"\"},\"colorscale\":[[0.0,\"#0d0887\"],[0.1111111111111111,\"#46039f\"],[0.2222222222222222,\"#7201a8\"],[0.3333333333333333,\"#9c179e\"],[0.4444444444444444,\"#bd3786\"],[0.5555555555555556,\"#d8576b\"],[0.6666666666666666,\"#ed7953\"],[0.7777777777777778,\"#fb9f3a\"],[0.8888888888888888,\"#fdca26\"],[1.0,\"#f0f921\"]]}],\"choropleth\":[{\"type\":\"choropleth\",\"colorbar\":{\"outlinewidth\":0,\"ticks\":\"\"}}],\"histogram2d\":[{\"type\":\"histogram2d\",\"colorbar\":{\"outlinewidth\":0,\"ticks\":\"\"},\"colorscale\":[[0.0,\"#0d0887\"],[0.1111111111111111,\"#46039f\"],[0.2222222222222222,\"#7201a8\"],[0.3333333333333333,\"#9c179e\"],[0.4444444444444444,\"#bd3786\"],[0.5555555555555556,\"#d8576b\"],[0.6666666666666666,\"#ed7953\"],[0.7777777777777778,\"#fb9f3a\"],[0.8888888888888888,\"#fdca26\"],[1.0,\"#f0f921\"]]}],\"heatmap\":[{\"type\":\"heatmap\",\"colorbar\":{\"outlinewidth\":0,\"ticks\":\"\"},\"colorscale\":[[0.0,\"#0d0887\"],[0.1111111111111111,\"#46039f\"],[0.2222222222222222,\"#7201a8\"],[0.3333333333333333,\"#9c179e\"],[0.4444444444444444,\"#bd3786\"],[0.5555555555555556,\"#d8576b\"],[0.6666666666666666,\"#ed7953\"],[0.7777777777777778,\"#fb9f3a\"],[0.8888888888888888,\"#fdca26\"],[1.0,\"#f0f921\"]]}],\"heatmapgl\":[{\"type\":\"heatmapgl\",\"colorbar\":{\"outlinewidth\":0,\"ticks\":\"\"},\"colorscale\":[[0.0,\"#0d0887\"],[0.1111111111111111,\"#46039f\"],[0.2222222222222222,\"#7201a8\"],[0.3333333333333333,\"#9c179e\"],[0.4444444444444444,\"#bd3786\"],[0.5555555555555556,\"#d8576b\"],[0.6666666666666666,\"#ed7953\"],[0.7777777777777778,\"#fb9f3a\"],[0.8888888888888888,\"#fdca26\"],[1.0,\"#f0f921\"]]}],\"contourcarpet\":[{\"type\":\"contourcarpet\",\"colorbar\":{\"outlinewidth\":0,\"ticks\":\"\"}}],\"contour\":[{\"type\":\"contour\",\"colorbar\":{\"outlinewidth\":0,\"ticks\":\"\"},\"colorscale\":[[0.0,\"#0d0887\"],[0.1111111111111111,\"#46039f\"],[0.2222222222222222,\"#7201a8\"],[0.3333333333333333,\"#9c179e\"],[0.4444444444444444,\"#bd3786\"],[0.5555555555555556,\"#d8576b\"],[0.6666666666666666,\"#ed7953\"],[0.7777777777777778,\"#fb9f3a\"],[0.8888888888888888,\"#fdca26\"],[1.0,\"#f0f921\"]]}],\"surface\":[{\"type\":\"surface\",\"colorbar\":{\"outlinewidth\":0,\"ticks\":\"\"},\"colorscale\":[[0.0,\"#0d0887\"],[0.1111111111111111,\"#46039f\"],[0.2222222222222222,\"#7201a8\"],[0.3333333333333333,\"#9c179e\"],[0.4444444444444444,\"#bd3786\"],[0.5555555555555556,\"#d8576b\"],[0.6666666666666666,\"#ed7953\"],[0.7777777777777778,\"#fb9f3a\"],[0.8888888888888888,\"#fdca26\"],[1.0,\"#f0f921\"]]}],\"mesh3d\":[{\"type\":\"mesh3d\",\"colorbar\":{\"outlinewidth\":0,\"ticks\":\"\"}}],\"scatter\":[{\"fillpattern\":{\"fillmode\":\"overlay\",\"size\":10,\"solidity\":0.2},\"type\":\"scatter\"}],\"parcoords\":[{\"type\":\"parcoords\",\"line\":{\"colorbar\":{\"outlinewidth\":0,\"ticks\":\"\"}}}],\"scatterpolargl\":[{\"type\":\"scatterpolargl\",\"marker\":{\"colorbar\":{\"outlinewidth\":0,\"ticks\":\"\"}}}],\"bar\":[{\"error_x\":{\"color\":\"#2a3f5f\"},\"error_y\":{\"color\":\"#2a3f5f\"},\"marker\":{\"line\":{\"color\":\"#E5ECF6\",\"width\":0.5},\"pattern\":{\"fillmode\":\"overlay\",\"size\":10,\"solidity\":0.2}},\"type\":\"bar\"}],\"scattergeo\":[{\"type\":\"scattergeo\",\"marker\":{\"colorbar\":{\"outlinewidth\":0,\"ticks\":\"\"}}}],\"scatterpolar\":[{\"type\":\"scatterpolar\",\"marker\":{\"colorbar\":{\"outlinewidth\":0,\"ticks\":\"\"}}}],\"histogram\":[{\"marker\":{\"pattern\":{\"fillmode\":\"overlay\",\"size\":10,\"solidity\":0.2}},\"type\":\"histogram\"}],\"scattergl\":[{\"type\":\"scattergl\",\"marker\":{\"colorbar\":{\"outlinewidth\":0,\"ticks\":\"\"}}}],\"scatter3d\":[{\"type\":\"scatter3d\",\"line\":{\"colorbar\":{\"outlinewidth\":0,\"ticks\":\"\"}},\"marker\":{\"colorbar\":{\"outlinewidth\":0,\"ticks\":\"\"}}}],\"scattermapbox\":[{\"type\":\"scattermapbox\",\"marker\":{\"colorbar\":{\"outlinewidth\":0,\"ticks\":\"\"}}}],\"scatterternary\":[{\"type\":\"scatterternary\",\"marker\":{\"colorbar\":{\"outlinewidth\":0,\"ticks\":\"\"}}}],\"scattercarpet\":[{\"type\":\"scattercarpet\",\"marker\":{\"colorbar\":{\"outlinewidth\":0,\"ticks\":\"\"}}}],\"carpet\":[{\"aaxis\":{\"endlinecolor\":\"#2a3f5f\",\"gridcolor\":\"white\",\"linecolor\":\"white\",\"minorgridcolor\":\"white\",\"startlinecolor\":\"#2a3f5f\"},\"baxis\":{\"endlinecolor\":\"#2a3f5f\",\"gridcolor\":\"white\",\"linecolor\":\"white\",\"minorgridcolor\":\"white\",\"startlinecolor\":\"#2a3f5f\"},\"type\":\"carpet\"}],\"table\":[{\"cells\":{\"fill\":{\"color\":\"#EBF0F8\"},\"line\":{\"color\":\"white\"}},\"header\":{\"fill\":{\"color\":\"#C8D4E3\"},\"line\":{\"color\":\"white\"}},\"type\":\"table\"}],\"barpolar\":[{\"marker\":{\"line\":{\"color\":\"#E5ECF6\",\"width\":0.5},\"pattern\":{\"fillmode\":\"overlay\",\"size\":10,\"solidity\":0.2}},\"type\":\"barpolar\"}],\"pie\":[{\"automargin\":true,\"type\":\"pie\"}]},\"layout\":{\"autotypenumbers\":\"strict\",\"colorway\":[\"#636efa\",\"#EF553B\",\"#00cc96\",\"#ab63fa\",\"#FFA15A\",\"#19d3f3\",\"#FF6692\",\"#B6E880\",\"#FF97FF\",\"#FECB52\"],\"font\":{\"color\":\"#2a3f5f\"},\"hovermode\":\"closest\",\"hoverlabel\":{\"align\":\"left\"},\"paper_bgcolor\":\"white\",\"plot_bgcolor\":\"#E5ECF6\",\"polar\":{\"bgcolor\":\"#E5ECF6\",\"angularaxis\":{\"gridcolor\":\"white\",\"linecolor\":\"white\",\"ticks\":\"\"},\"radialaxis\":{\"gridcolor\":\"white\",\"linecolor\":\"white\",\"ticks\":\"\"}},\"ternary\":{\"bgcolor\":\"#E5ECF6\",\"aaxis\":{\"gridcolor\":\"white\",\"linecolor\":\"white\",\"ticks\":\"\"},\"baxis\":{\"gridcolor\":\"white\",\"linecolor\":\"white\",\"ticks\":\"\"},\"caxis\":{\"gridcolor\":\"white\",\"linecolor\":\"white\",\"ticks\":\"\"}},\"coloraxis\":{\"colorbar\":{\"outlinewidth\":0,\"ticks\":\"\"}},\"colorscale\":{\"sequential\":[[0.0,\"#0d0887\"],[0.1111111111111111,\"#46039f\"],[0.2222222222222222,\"#7201a8\"],[0.3333333333333333,\"#9c179e\"],[0.4444444444444444,\"#bd3786\"],[0.5555555555555556,\"#d8576b\"],[0.6666666666666666,\"#ed7953\"],[0.7777777777777778,\"#fb9f3a\"],[0.8888888888888888,\"#fdca26\"],[1.0,\"#f0f921\"]],\"sequentialminus\":[[0.0,\"#0d0887\"],[0.1111111111111111,\"#46039f\"],[0.2222222222222222,\"#7201a8\"],[0.3333333333333333,\"#9c179e\"],[0.4444444444444444,\"#bd3786\"],[0.5555555555555556,\"#d8576b\"],[0.6666666666666666,\"#ed7953\"],[0.7777777777777778,\"#fb9f3a\"],[0.8888888888888888,\"#fdca26\"],[1.0,\"#f0f921\"]],\"diverging\":[[0,\"#8e0152\"],[0.1,\"#c51b7d\"],[0.2,\"#de77ae\"],[0.3,\"#f1b6da\"],[0.4,\"#fde0ef\"],[0.5,\"#f7f7f7\"],[0.6,\"#e6f5d0\"],[0.7,\"#b8e186\"],[0.8,\"#7fbc41\"],[0.9,\"#4d9221\"],[1,\"#276419\"]]},\"xaxis\":{\"gridcolor\":\"white\",\"linecolor\":\"white\",\"ticks\":\"\",\"title\":{\"standoff\":15},\"zerolinecolor\":\"white\",\"automargin\":true,\"zerolinewidth\":2},\"yaxis\":{\"gridcolor\":\"white\",\"linecolor\":\"white\",\"ticks\":\"\",\"title\":{\"standoff\":15},\"zerolinecolor\":\"white\",\"automargin\":true,\"zerolinewidth\":2},\"scene\":{\"xaxis\":{\"backgroundcolor\":\"#E5ECF6\",\"gridcolor\":\"white\",\"linecolor\":\"white\",\"showbackground\":true,\"ticks\":\"\",\"zerolinecolor\":\"white\",\"gridwidth\":2},\"yaxis\":{\"backgroundcolor\":\"#E5ECF6\",\"gridcolor\":\"white\",\"linecolor\":\"white\",\"showbackground\":true,\"ticks\":\"\",\"zerolinecolor\":\"white\",\"gridwidth\":2},\"zaxis\":{\"backgroundcolor\":\"#E5ECF6\",\"gridcolor\":\"white\",\"linecolor\":\"white\",\"showbackground\":true,\"ticks\":\"\",\"zerolinecolor\":\"white\",\"gridwidth\":2}},\"shapedefaults\":{\"line\":{\"color\":\"#2a3f5f\"}},\"annotationdefaults\":{\"arrowcolor\":\"#2a3f5f\",\"arrowhead\":0,\"arrowwidth\":1},\"geo\":{\"bgcolor\":\"white\",\"landcolor\":\"#E5ECF6\",\"subunitcolor\":\"white\",\"showland\":true,\"showlakes\":true,\"lakecolor\":\"white\"},\"title\":{\"x\":0.05},\"mapbox\":{\"style\":\"light\"}}},\"xaxis\":{\"anchor\":\"y\",\"domain\":[0.0,1.0],\"title\":{\"text\":\"x1\"}},\"yaxis\":{\"anchor\":\"x\",\"domain\":[0.0,1.0],\"title\":{\"text\":\"x2\"}},\"legend\":{\"title\":{\"text\":\"party\"},\"tracegroupgap\":0},\"margin\":{\"t\":60},\"height\":1000,\"width\":1000},                        {\"responsive\": true}                    ).then(function(){\n",
       "                            \n",
       "var gd = document.getElementById('25e8fd1e-b94b-4319-a0c0-4673044bc269');\n",
       "var x = new MutationObserver(function (mutations, observer) {{\n",
       "        var display = window.getComputedStyle(gd).display;\n",
       "        if (!display || display === 'none') {{\n",
       "            console.log([gd, 'removed!']);\n",
       "            Plotly.purge(gd);\n",
       "            observer.disconnect();\n",
       "        }}\n",
       "}});\n",
       "\n",
       "// Listen for the removal of the full notebook cells\n",
       "var notebookContainer = gd.closest('#notebook-container');\n",
       "if (notebookContainer) {{\n",
       "    x.observe(notebookContainer, {childList: true});\n",
       "}}\n",
       "\n",
       "// Listen for the clearing of the current output cell\n",
       "var outputEl = gd.closest('.output');\n",
       "if (outputEl) {{\n",
       "    x.observe(outputEl, {childList: true});\n",
       "}}\n",
       "\n",
       "                        })                };                });            </script>        </div>"
      ]
     },
     "metadata": {},
     "output_type": "display_data"
    }
   ],
   "source": [
    "fig = px.scatter(matrix_embedded, x=\"x1\", y=\"x2\", color=\"party\", text = 'name',width=1000, height=1000)\n",
    "fig.show()"
   ]
  },
  {
   "cell_type": "code",
   "execution_count": null,
   "id": "5e14350b-97bd-4210-ba4b-0438d29ac3c6",
   "metadata": {},
   "outputs": [],
   "source": [
    "sns.scatterplot(x = 'x1' , y = 'x2', data = matrix_embedded, hue = 'cluster',palette=\"Set1\")"
   ]
  },
  {
   "cell_type": "code",
   "execution_count": null,
   "id": "8de4d586-e9f9-44a9-b692-a141ff3eb0d5",
   "metadata": {},
   "outputs": [],
   "source": [
    "## 덴도 그램\n",
    "\n",
    "leaf_colors = dict(zip(df.name,df.color))\n",
    "\n",
    "plt.rcParams[\"figure.figsize\"] = (50,30)\n",
    "dend = dendrogram(linkage(distanceMatrix, method='average'), \n",
    "     color_threshold=4, \n",
    "     leaf_font_size=9, \n",
    "     labels = df.name.tolist())\n",
    "\n",
    "ax = plt.gca()\n",
    "xlbls = ax.get_xmajorticklabels()\n",
    "for lbl in xlbls:\n",
    "    lbl.set_color(leaf_colors[lbl.get_text()])\n",
    "\n",
    "plt.show()"
   ]
  },
  {
   "cell_type": "code",
   "execution_count": null,
   "id": "7f1d1d27-c497-4428-ac45-f9ba90726ac5",
   "metadata": {},
   "outputs": [],
   "source": [
    "# barchart\n",
    "\n",
    "bar = df.groupby(['cluster']).party.value_counts().unstack('cluster').fillna(0)\n",
    "bar = bar / bar.sum(axis=0)\n",
    "bar = bar.T\n",
    "\n",
    "plt.rcParams[\"figure.figsize\"] = (10,10)\n",
    "bar.plot(kind='bar', stacked=True, color=[colors.get(x, '#333333') for x in bar.columns])"
   ]
  },
  {
   "cell_type": "code",
   "execution_count": 36,
   "id": "366ca026-e69a-44ac-afd2-44571f29047c",
   "metadata": {},
   "outputs": [],
   "source": [
    "# 핵심 인물 찾기"
   ]
  },
  {
   "cell_type": "code",
   "execution_count": 37,
   "id": "c5a2455a-f6a0-4de5-9bda-32ad33e5fb13",
   "metadata": {},
   "outputs": [],
   "source": [
    "# 가장 법률 발의 패턴이 비슷한 순위, 가장 많이 만든 순위"
   ]
  },
  {
   "cell_type": "code",
   "execution_count": 38,
   "id": "81f93bd5-32cf-4031-80f2-30c52547a8f9",
   "metadata": {},
   "outputs": [],
   "source": [
    "# 시간순으로 (축고정이 이슈일듯)"
   ]
  },
  {
   "cell_type": "code",
   "execution_count": 16,
   "id": "dba4897c-514b-4a27-a7f3-68aa81e05484",
   "metadata": {},
   "outputs": [],
   "source": []
  }
 ],
 "metadata": {
  "kernelspec": {
   "display_name": "Python 3",
   "language": "python",
   "name": "python3"
  },
  "language_info": {
   "codemirror_mode": {
    "name": "ipython",
    "version": 3
   },
   "file_extension": ".py",
   "mimetype": "text/x-python",
   "name": "python",
   "nbconvert_exporter": "python",
   "pygments_lexer": "ipython3",
   "version": "3.9.13"
  }
 },
 "nbformat": 4,
 "nbformat_minor": 5
}
